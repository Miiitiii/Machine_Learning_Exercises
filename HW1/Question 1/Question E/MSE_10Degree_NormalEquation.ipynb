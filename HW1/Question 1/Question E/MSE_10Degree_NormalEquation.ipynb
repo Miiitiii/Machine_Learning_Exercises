{
 "cells": [
  {
   "cell_type": "code",
   "execution_count": 1,
   "id": "d03f2d38",
   "metadata": {},
   "outputs": [],
   "source": [
    "import numpy as np\n",
    "from numpy.linalg import inv\n",
    "from matplotlib import pyplot as plt\n",
    "import pandas as pd\n",
    "\n",
    "address = 'D:/HomeWork/Machine Learning/ML-HW01/ML-HW01/dataset1/dataset1.csv'\n",
    "df = pd.read_csv(address)\n",
    "data = df.sample(frac=1)"
   ]
  },
  {
   "cell_type": "code",
   "execution_count": 2,
   "id": "b5fa6f6b",
   "metadata": {},
   "outputs": [
    {
     "data": {
      "text/html": [
       "<div>\n",
       "<style scoped>\n",
       "    .dataframe tbody tr th:only-of-type {\n",
       "        vertical-align: middle;\n",
       "    }\n",
       "\n",
       "    .dataframe tbody tr th {\n",
       "        vertical-align: top;\n",
       "    }\n",
       "\n",
       "    .dataframe thead th {\n",
       "        text-align: right;\n",
       "    }\n",
       "</style>\n",
       "<table border=\"1\" class=\"dataframe\">\n",
       "  <thead>\n",
       "    <tr style=\"text-align: right;\">\n",
       "      <th></th>\n",
       "      <th>y</th>\n",
       "      <th>x0</th>\n",
       "      <th>x</th>\n",
       "      <th>x2</th>\n",
       "      <th>x3</th>\n",
       "      <th>x4</th>\n",
       "      <th>x5</th>\n",
       "      <th>x6</th>\n",
       "      <th>x7</th>\n",
       "      <th>x8</th>\n",
       "      <th>x9</th>\n",
       "      <th>x10</th>\n",
       "    </tr>\n",
       "  </thead>\n",
       "  <tbody>\n",
       "    <tr>\n",
       "      <th>1</th>\n",
       "      <td>0.846452</td>\n",
       "      <td>1.0</td>\n",
       "      <td>0.430379</td>\n",
       "      <td>0.185226</td>\n",
       "      <td>0.079717</td>\n",
       "      <td>0.034309</td>\n",
       "      <td>0.014766</td>\n",
       "      <td>0.006355</td>\n",
       "      <td>0.002735</td>\n",
       "      <td>0.001177</td>\n",
       "      <td>5.065907e-04</td>\n",
       "      <td>2.180259e-04</td>\n",
       "    </tr>\n",
       "    <tr>\n",
       "      <th>13</th>\n",
       "      <td>-0.061816</td>\n",
       "      <td>1.0</td>\n",
       "      <td>0.851193</td>\n",
       "      <td>0.724530</td>\n",
       "      <td>0.616715</td>\n",
       "      <td>0.524944</td>\n",
       "      <td>0.446829</td>\n",
       "      <td>0.380337</td>\n",
       "      <td>0.323741</td>\n",
       "      <td>0.275566</td>\n",
       "      <td>2.345598e-01</td>\n",
       "      <td>1.996558e-01</td>\n",
       "    </tr>\n",
       "    <tr>\n",
       "      <th>190</th>\n",
       "      <td>-0.742205</td>\n",
       "      <td>1.0</td>\n",
       "      <td>-0.203558</td>\n",
       "      <td>0.041436</td>\n",
       "      <td>-0.008435</td>\n",
       "      <td>0.001717</td>\n",
       "      <td>-0.000349</td>\n",
       "      <td>0.000071</td>\n",
       "      <td>-0.000014</td>\n",
       "      <td>0.000003</td>\n",
       "      <td>-6.000552e-07</td>\n",
       "      <td>1.221460e-07</td>\n",
       "    </tr>\n",
       "    <tr>\n",
       "      <th>118</th>\n",
       "      <td>-0.603117</td>\n",
       "      <td>1.0</td>\n",
       "      <td>0.763471</td>\n",
       "      <td>0.582888</td>\n",
       "      <td>0.445018</td>\n",
       "      <td>0.339758</td>\n",
       "      <td>0.259395</td>\n",
       "      <td>0.198041</td>\n",
       "      <td>0.151198</td>\n",
       "      <td>0.115435</td>\n",
       "      <td>8.813157e-02</td>\n",
       "      <td>6.728587e-02</td>\n",
       "    </tr>\n",
       "    <tr>\n",
       "      <th>43</th>\n",
       "      <td>2.158043</td>\n",
       "      <td>1.0</td>\n",
       "      <td>-0.879549</td>\n",
       "      <td>0.773607</td>\n",
       "      <td>-0.680425</td>\n",
       "      <td>0.598467</td>\n",
       "      <td>-0.526381</td>\n",
       "      <td>0.462978</td>\n",
       "      <td>-0.407212</td>\n",
       "      <td>0.358163</td>\n",
       "      <td>-3.150218e-01</td>\n",
       "      <td>2.770771e-01</td>\n",
       "    </tr>\n",
       "  </tbody>\n",
       "</table>\n",
       "</div>"
      ],
      "text/plain": [
       "            y   x0         x        x2        x3        x4        x5  \\\n",
       "1    0.846452  1.0  0.430379  0.185226  0.079717  0.034309  0.014766   \n",
       "13  -0.061816  1.0  0.851193  0.724530  0.616715  0.524944  0.446829   \n",
       "190 -0.742205  1.0 -0.203558  0.041436 -0.008435  0.001717 -0.000349   \n",
       "118 -0.603117  1.0  0.763471  0.582888  0.445018  0.339758  0.259395   \n",
       "43   2.158043  1.0 -0.879549  0.773607 -0.680425  0.598467 -0.526381   \n",
       "\n",
       "           x6        x7        x8            x9           x10  \n",
       "1    0.006355  0.002735  0.001177  5.065907e-04  2.180259e-04  \n",
       "13   0.380337  0.323741  0.275566  2.345598e-01  1.996558e-01  \n",
       "190  0.000071 -0.000014  0.000003 -6.000552e-07  1.221460e-07  \n",
       "118  0.198041  0.151198  0.115435  8.813157e-02  6.728587e-02  \n",
       "43   0.462978 -0.407212  0.358163 -3.150218e-01  2.770771e-01  "
      ]
     },
     "execution_count": 2,
     "metadata": {},
     "output_type": "execute_result"
    }
   ],
   "source": [
    "#create new data for multivariate gradient descent\n",
    "data['x0']=data['x']**0\n",
    "data['x2']=data['x']**2\n",
    "data['x3']=data['x']**3\n",
    "data['x4']=data['x']**4\n",
    "data['x5']=data['x']**5\n",
    "data['x6']=data['x']**6\n",
    "data['x7']=data['x']**7\n",
    "data['x8']=data['x']**8\n",
    "data['x9']=data['x']**9\n",
    "data['x10']=data['x']**10\n",
    "\n",
    "#change columns for better access\n",
    "newY = data.pop('y')\n",
    "x0 = data.pop('x0')\n",
    "\n",
    "data.insert(0, 'y', newY)\n",
    "data.insert(1, 'x0', x0)\n",
    "\n",
    "#insert data in arrays\n",
    "y = data.iloc[:, 0].values\n",
    "X = data.iloc[:, 1:12].values\n",
    "\n",
    "mainX = data.iloc[:,2].values\n",
    "\n",
    "data.head(5)"
   ]
  },
  {
   "cell_type": "code",
   "execution_count": 3,
   "id": "4f4aa92a",
   "metadata": {},
   "outputs": [],
   "source": [
    "def cost_function_MSE(X, Y, theta):\n",
    "    m = len(Y)\n",
    "    J = np.sum((X.dot(theta)-Y) ** 2)/(2 * m)\n",
    "    return J"
   ]
  },
  {
   "cell_type": "code",
   "execution_count": 4,
   "id": "c9e6d9d0",
   "metadata": {},
   "outputs": [],
   "source": [
    "def normal_equation(X, Y):\n",
    "    m = len(Y)\n",
    "    \n",
    "    XtX =np.dot(X.T,X)\n",
    "    XX = inv(XtX)\n",
    "    \n",
    "    XtY = np.dot(X.T , Y)\n",
    "    \n",
    "    theta = np.dot(XX , XtY)\n",
    "    \n",
    " # New Cost Value\n",
    "    cost = cost_function_MSE(X, Y, Theta)\n",
    " \n",
    "    return theta , cost"
   ]
  },
  {
   "cell_type": "code",
   "execution_count": 5,
   "id": "57239d6a",
   "metadata": {},
   "outputs": [],
   "source": [
    "#60% of data for train\n",
    "#40% of data for test\n",
    "m = 180\n",
    "\n",
    "X_train = X[:m]\n",
    "mainX_train = X[:m , 1]\n",
    "y_train = y[:m]\n",
    "\n",
    "X_test = X[m: , 1]\n",
    "y_test = y[m:]"
   ]
  },
  {
   "cell_type": "code",
   "execution_count": 6,
   "id": "d8aa9035",
   "metadata": {},
   "outputs": [],
   "source": [
    "# Initial Coefficients\n",
    "Theta = np.zeros(X_train.shape[1])\n",
    "\n",
    "newTheta, cost_history = normal_equation(X_train, y_train)\n",
    "\n",
    "# print(newTheta)"
   ]
  },
  {
   "cell_type": "code",
   "execution_count": 7,
   "id": "dea7d86c",
   "metadata": {},
   "outputs": [
    {
     "data": {
      "image/png": "[encoded data removed]",
      "text/plain": [
       "<Figure size 432x288 with 1 Axes>"
      ]
     },
     "metadata": {
      "needs_background": "light"
     },
     "output_type": "display_data"
    }
   ],
   "source": [
    "# plot\n",
    "sorted_X_train = np.sort(mainX_train)\n",
    "# sorted_X_train = mainX_train\n",
    "y_predict = [None] * len(sorted_X_train)\n",
    "\n",
    "for i in range(len(sorted_X_train)):\n",
    "    y_predict[i] = newTheta[0]+ newTheta[1]*sorted_X_train[i] + newTheta[2]*(sorted_X_train[i]**2) + newTheta[3]*(sorted_X_train[i]**3) + newTheta[4]*(sorted_X_train[i]**4) + newTheta[5]*(sorted_X_train[i]**5)+ newTheta[6]*(sorted_X_train[i]**6) + newTheta[7]*(sorted_X_train[i]**7) + newTheta[8]*(sorted_X_train[i]**8)+ newTheta[9]*(sorted_X_train[i]**9) + newTheta[10]*(sorted_X_train[i]**10)\n",
    "\n",
    "\n",
    "plt.plot(sorted_X_train,y_predict)\n",
    "plt.plot(mainX_train,y_train , linestyle='', marker='o')\n",
    "\n",
    "plt.show()"
   ]
  },
  {
   "cell_type": "code",
   "execution_count": 8,
   "id": "2c2869fd",
   "metadata": {},
   "outputs": [],
   "source": [
    "#test\n",
    "def pred(testData , Thetas):\n",
    "    y_predict = [None] * len(testData)\n",
    "    for i in range(len(testData)):\n",
    "        y_predict[i] = Thetas[0]+ Thetas[1]*testData[i] + Thetas[2]*(testData[i]**2) + Thetas[3]*(testData[i]**3) + Thetas[4]*(testData[i]**4) + Thetas[5]*(testData[i]**5)+ Thetas[6]*(testData[i]**6) + Thetas[7]*(testData[i]**7) + Thetas[8]*(testData[i]**8)+ Thetas[9]*(testData[i]**9) + Thetas[10]*(testData[i]**10)\n",
    "    \n",
    "    return (y_predict)"
   ]
  },
  {
   "cell_type": "code",
   "execution_count": 9,
   "id": "b9206724",
   "metadata": {},
   "outputs": [],
   "source": [
    "def r2(y_,y):\n",
    "    sst = np.sum((y-y.mean())**2)\n",
    "    ssr = np.sum((y_-y)**2)\n",
    "    r2 = 1-(ssr/sst)\n",
    "    return(abs(r2))"
   ]
  },
  {
   "cell_type": "code",
   "execution_count": 10,
   "id": "b43dfe5b",
   "metadata": {},
   "outputs": [],
   "source": [
    "y_ = pred(X_test,newTheta)"
   ]
  },
  {
   "cell_type": "code",
   "execution_count": 11,
   "id": "1e095053",
   "metadata": {},
   "outputs": [
    {
     "data": {
      "text/plain": [
       "0.8484183939622943"
      ]
     },
     "execution_count": 11,
     "metadata": {},
     "output_type": "execute_result"
    }
   ],
   "source": [
    "r2(y_,y_test)"
   ]
  },
  {
   "cell_type": "code",
   "execution_count": null,
   "id": "c3f5644d",
   "metadata": {},
   "outputs": [],
   "source": []
  }
 ],
 "metadata": {
  "kernelspec": {
   "display_name": "Python 3",
   "language": "python",
   "name": "python3"
  },
  "language_info": {
   "codemirror_mode": {
    "name": "ipython",
    "version": 3
   },
   "file_extension": ".py",
   "mimetype": "text/x-python",
   "name": "python",
   "nbconvert_exporter": "python",
   "pygments_lexer": "ipython3",
   "version": "3.8.8"
  }
 },
 "nbformat": 4,
 "nbformat_minor": 5
}
