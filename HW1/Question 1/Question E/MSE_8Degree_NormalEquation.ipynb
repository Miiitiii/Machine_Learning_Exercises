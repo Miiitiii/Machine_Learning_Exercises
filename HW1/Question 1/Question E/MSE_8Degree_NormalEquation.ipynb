{
 "cells": [
  {
   "cell_type": "code",
   "execution_count": 1,
   "id": "d03f2d38",
   "metadata": {},
   "outputs": [],
   "source": [
    "import numpy as np\n",
    "from numpy.linalg import inv\n",
    "from matplotlib import pyplot as plt\n",
    "import pandas as pd\n",
    "\n",
    "address = 'D:/HomeWork/Machine Learning/ML-HW01/ML-HW01/dataset1/dataset1.csv'\n",
    "data = pd.read_csv(address)\n",
    "# data = df.sample(frac=1)"
   ]
  },
  {
   "cell_type": "code",
   "execution_count": 2,
   "id": "b5fa6f6b",
   "metadata": {},
   "outputs": [
    {
     "data": {
      "text/html": [
       "<div>\n",
       "<style scoped>\n",
       "    .dataframe tbody tr th:only-of-type {\n",
       "        vertical-align: middle;\n",
       "    }\n",
       "\n",
       "    .dataframe tbody tr th {\n",
       "        vertical-align: top;\n",
       "    }\n",
       "\n",
       "    .dataframe thead th {\n",
       "        text-align: right;\n",
       "    }\n",
       "</style>\n",
       "<table border=\"1\" class=\"dataframe\">\n",
       "  <thead>\n",
       "    <tr style=\"text-align: right;\">\n",
       "      <th></th>\n",
       "      <th>y</th>\n",
       "      <th>x0</th>\n",
       "      <th>x</th>\n",
       "      <th>x2</th>\n",
       "      <th>x3</th>\n",
       "      <th>x4</th>\n",
       "      <th>x5</th>\n",
       "      <th>x6</th>\n",
       "      <th>x7</th>\n",
       "      <th>x8</th>\n",
       "    </tr>\n",
       "  </thead>\n",
       "  <tbody>\n",
       "    <tr>\n",
       "      <th>0</th>\n",
       "      <td>0.626964</td>\n",
       "      <td>1.0</td>\n",
       "      <td>0.097627</td>\n",
       "      <td>0.009531</td>\n",
       "      <td>0.000930</td>\n",
       "      <td>0.000091</td>\n",
       "      <td>0.000009</td>\n",
       "      <td>8.658046e-07</td>\n",
       "      <td>8.452591e-08</td>\n",
       "      <td>8.252012e-09</td>\n",
       "    </tr>\n",
       "    <tr>\n",
       "      <th>1</th>\n",
       "      <td>0.846452</td>\n",
       "      <td>1.0</td>\n",
       "      <td>0.430379</td>\n",
       "      <td>0.185226</td>\n",
       "      <td>0.079717</td>\n",
       "      <td>0.034309</td>\n",
       "      <td>0.014766</td>\n",
       "      <td>6.354843e-03</td>\n",
       "      <td>2.734989e-03</td>\n",
       "      <td>1.177081e-03</td>\n",
       "    </tr>\n",
       "    <tr>\n",
       "      <th>2</th>\n",
       "      <td>0.756017</td>\n",
       "      <td>1.0</td>\n",
       "      <td>0.205527</td>\n",
       "      <td>0.042241</td>\n",
       "      <td>0.008682</td>\n",
       "      <td>0.001784</td>\n",
       "      <td>0.000367</td>\n",
       "      <td>7.537202e-05</td>\n",
       "      <td>1.549097e-05</td>\n",
       "      <td>3.183808e-06</td>\n",
       "    </tr>\n",
       "    <tr>\n",
       "      <th>3</th>\n",
       "      <td>0.427504</td>\n",
       "      <td>1.0</td>\n",
       "      <td>0.089766</td>\n",
       "      <td>0.008058</td>\n",
       "      <td>0.000723</td>\n",
       "      <td>0.000065</td>\n",
       "      <td>0.000006</td>\n",
       "      <td>5.232170e-07</td>\n",
       "      <td>4.696729e-08</td>\n",
       "      <td>4.216083e-09</td>\n",
       "    </tr>\n",
       "    <tr>\n",
       "      <th>4</th>\n",
       "      <td>-1.335228</td>\n",
       "      <td>1.0</td>\n",
       "      <td>-0.152690</td>\n",
       "      <td>0.023314</td>\n",
       "      <td>-0.003560</td>\n",
       "      <td>0.000544</td>\n",
       "      <td>-0.000083</td>\n",
       "      <td>1.267274e-05</td>\n",
       "      <td>-1.935005e-06</td>\n",
       "      <td>2.954567e-07</td>\n",
       "    </tr>\n",
       "  </tbody>\n",
       "</table>\n",
       "</div>"
      ],
      "text/plain": [
       "          y   x0         x        x2        x3        x4        x5  \\\n",
       "0  0.626964  1.0  0.097627  0.009531  0.000930  0.000091  0.000009   \n",
       "1  0.846452  1.0  0.430379  0.185226  0.079717  0.034309  0.014766   \n",
       "2  0.756017  1.0  0.205527  0.042241  0.008682  0.001784  0.000367   \n",
       "3  0.427504  1.0  0.089766  0.008058  0.000723  0.000065  0.000006   \n",
       "4 -1.335228  1.0 -0.152690  0.023314 -0.003560  0.000544 -0.000083   \n",
       "\n",
       "             x6            x7            x8  \n",
       "0  8.658046e-07  8.452591e-08  8.252012e-09  \n",
       "1  6.354843e-03  2.734989e-03  1.177081e-03  \n",
       "2  7.537202e-05  1.549097e-05  3.183808e-06  \n",
       "3  5.232170e-07  4.696729e-08  4.216083e-09  \n",
       "4  1.267274e-05 -1.935005e-06  2.954567e-07  "
      ]
     },
     "execution_count": 2,
     "metadata": {},
     "output_type": "execute_result"
    }
   ],
   "source": [
    "#create new data for multivariate gradient descent\n",
    "data['x0']=data['x']**0\n",
    "data['x2']=data['x']**2\n",
    "data['x3']=data['x']**3\n",
    "data['x4']=data['x']**4\n",
    "data['x5']=data['x']**5\n",
    "data['x6']=data['x']**6\n",
    "data['x7']=data['x']**7\n",
    "data['x8']=data['x']**8\n",
    "\n",
    "#change columns for better access\n",
    "newY = data.pop('y')\n",
    "x0 = data.pop('x0')\n",
    "\n",
    "data.insert(0, 'y', newY)\n",
    "data.insert(1, 'x0', x0)\n",
    "\n",
    "#insert data in arrays\n",
    "y = data.iloc[:, 0].values\n",
    "X = data.iloc[:, 1:10].values\n",
    "\n",
    "mainX = data.iloc[:,2].values\n",
    "\n",
    "data.head(5)"
   ]
  },
  {
   "cell_type": "code",
   "execution_count": 3,
   "id": "4f4aa92a",
   "metadata": {},
   "outputs": [],
   "source": [
    "def cost_function_MSE(X, Y, theta):\n",
    "    m = len(Y)\n",
    "    J = np.sum((X.dot(theta)-Y) ** 2)/(2 * m)\n",
    "    return J"
   ]
  },
  {
   "cell_type": "code",
   "execution_count": 4,
   "id": "c9e6d9d0",
   "metadata": {},
   "outputs": [],
   "source": [
    "def normal_equation(X, Y):\n",
    "    m = len(Y)\n",
    "    \n",
    "    XtX =np.dot(X.T,X)\n",
    "    XX = inv(XtX)\n",
    "    \n",
    "    XtY = np.dot(X.T , Y)\n",
    "    \n",
    "    theta = np.dot(XX , XtY)\n",
    "    \n",
    " # New Cost Value\n",
    "    cost = cost_function_MSE(X, Y, Theta)\n",
    " \n",
    "    return theta , cost"
   ]
  },
  {
   "cell_type": "code",
   "execution_count": 5,
   "id": "57239d6a",
   "metadata": {},
   "outputs": [],
   "source": [
    "#60% of data for train\n",
    "#40% of data for test\n",
    "m = 180\n",
    "\n",
    "X_train = X[:m]\n",
    "mainX_train = X[:m , 1]\n",
    "y_train = y[:m]\n",
    "\n",
    "X_test = X[m: , 1]\n",
    "y_test = y[m:]"
   ]
  },
  {
   "cell_type": "code",
   "execution_count": 6,
   "id": "d8aa9035",
   "metadata": {},
   "outputs": [],
   "source": [
    "# Initial Coefficients\n",
    "Theta = np.zeros(X_train.shape[1])\n",
    "\n",
    "newTheta, cost_history = normal_equation(X_train, y_train)\n",
    "\n",
    "# print(newTheta)"
   ]
  },
  {
   "cell_type": "code",
   "execution_count": 7,
   "id": "dea7d86c",
   "metadata": {},
   "outputs": [
    {
     "data": {
      "image/png": "[encoded data removed]",
      "text/plain": [
       "<Figure size 432x288 with 1 Axes>"
      ]
     },
     "metadata": {
      "needs_background": "light"
     },
     "output_type": "display_data"
    }
   ],
   "source": [
    "# plot\n",
    "sorted_X_train = np.sort(mainX_train)\n",
    "# sorted_X_train = mainX_train\n",
    "y_predict = [None] * len(sorted_X_train)\n",
    "\n",
    "for i in range(len(sorted_X_train)):\n",
    "    y_predict[i] = newTheta[0]+ newTheta[1]*sorted_X_train[i] + newTheta[2]*(sorted_X_train[i]**2) + newTheta[3]*(sorted_X_train[i]**3) + newTheta[4]*(sorted_X_train[i]**4) + newTheta[5]*(sorted_X_train[i]**5)+ newTheta[6]*(sorted_X_train[i]**6) + newTheta[7]*(sorted_X_train[i]**7) + newTheta[8]*(sorted_X_train[i]**8)\n",
    "\n",
    "\n",
    "plt.plot(sorted_X_train,y_predict)\n",
    "plt.plot(mainX_train,y_train , linestyle='', marker='o')\n",
    "\n",
    "plt.show()"
   ]
  },
  {
   "cell_type": "code",
   "execution_count": 8,
   "id": "2c2869fd",
   "metadata": {},
   "outputs": [],
   "source": [
    "#test\n",
    "def pred(testData , Thetas):\n",
    "    y_predict = [None] * len(testData)\n",
    "    for i in range(len(testData)):\n",
    "        y_predict[i] = Thetas[0]+ Thetas[1]*testData[i] + Thetas[2]*(testData[i]**2) + Thetas[3]*(testData[i]**3) + Thetas[4]*(testData[i]**4) + Thetas[5]*(testData[i]**5)+ Thetas[6]*(testData[i]**6) + Thetas[7]*(testData[i]**7) + Thetas[8]*(testData[i]**8)\n",
    "    \n",
    "    return (y_predict)"
   ]
  },
  {
   "cell_type": "code",
   "execution_count": 9,
   "id": "b9206724",
   "metadata": {},
   "outputs": [],
   "source": [
    "def r2(y_,y):\n",
    "    sst = np.sum((y-y.mean())**2)\n",
    "    ssr = np.sum((y_-y)**2)\n",
    "    r2 = 1-(ssr/sst)\n",
    "    return(abs(r2))"
   ]
  },
  {
   "cell_type": "code",
   "execution_count": 10,
   "id": "b43dfe5b",
   "metadata": {},
   "outputs": [],
   "source": [
    "y_ = pred(X_test,newTheta)"
   ]
  },
  {
   "cell_type": "code",
   "execution_count": 11,
   "id": "1e095053",
   "metadata": {},
   "outputs": [
    {
     "data": {
      "text/plain": [
       "0.8289462322229645"
      ]
     },
     "execution_count": 11,
     "metadata": {},
     "output_type": "execute_result"
    }
   ],
   "source": [
    "r2(y_,y_test)"
   ]
  },
  {
   "cell_type": "code",
   "execution_count": null,
   "id": "c3f5644d",
   "metadata": {},
   "outputs": [],
   "source": []
  }
 ],
 "metadata": {
  "kernelspec": {
   "display_name": "Python 3",
   "language": "python",
   "name": "python3"
  },
  "language_info": {
   "codemirror_mode": {
    "name": "ipython",
    "version": 3
   },
   "file_extension": ".py",
   "mimetype": "text/x-python",
   "name": "python",
   "nbconvert_exporter": "python",
   "pygments_lexer": "ipython3",
   "version": "3.8.8"
  }
 },
 "nbformat": 4,
 "nbformat_minor": 5
}
