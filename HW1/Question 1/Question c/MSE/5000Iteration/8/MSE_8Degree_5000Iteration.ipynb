{
 "cells": [
  {
   "cell_type": "code",
   "execution_count": 1,
   "id": "ad4a1372",
   "metadata": {},
   "outputs": [],
   "source": [
    "import numpy as np\n",
    "from matplotlib import pyplot as plt\n",
    "import pandas as pd\n",
    "\n",
    "address = 'D:/HomeWork/Machine Learning/ML-HW01/ML-HW01/dataset1/dataset1.csv'\n",
    "\n",
    "df = pd.read_csv(address)\n",
    "data = df.sample(frac=1)"
   ]
  },
  {
   "cell_type": "code",
   "execution_count": 2,
   "id": "7bb50592",
   "metadata": {},
   "outputs": [
    {
     "data": {
      "text/html": [
       "<div>\n",
       "<style scoped>\n",
       "    .dataframe tbody tr th:only-of-type {\n",
       "        vertical-align: middle;\n",
       "    }\n",
       "\n",
       "    .dataframe tbody tr th {\n",
       "        vertical-align: top;\n",
       "    }\n",
       "\n",
       "    .dataframe thead th {\n",
       "        text-align: right;\n",
       "    }\n",
       "</style>\n",
       "<table border=\"1\" class=\"dataframe\">\n",
       "  <thead>\n",
       "    <tr style=\"text-align: right;\">\n",
       "      <th></th>\n",
       "      <th>y</th>\n",
       "      <th>x0</th>\n",
       "      <th>x</th>\n",
       "      <th>x2</th>\n",
       "      <th>x3</th>\n",
       "      <th>x4</th>\n",
       "      <th>x5</th>\n",
       "      <th>x6</th>\n",
       "      <th>x7</th>\n",
       "      <th>x8</th>\n",
       "    </tr>\n",
       "  </thead>\n",
       "  <tbody>\n",
       "    <tr>\n",
       "      <th>185</th>\n",
       "      <td>1.362810</td>\n",
       "      <td>1.0</td>\n",
       "      <td>0.227932</td>\n",
       "      <td>0.051953</td>\n",
       "      <td>0.011842</td>\n",
       "      <td>0.002699</td>\n",
       "      <td>0.000615</td>\n",
       "      <td>0.000140</td>\n",
       "      <td>3.196215e-05</td>\n",
       "      <td>7.285193e-06</td>\n",
       "    </tr>\n",
       "    <tr>\n",
       "      <th>299</th>\n",
       "      <td>-0.490298</td>\n",
       "      <td>1.0</td>\n",
       "      <td>0.921669</td>\n",
       "      <td>0.849474</td>\n",
       "      <td>0.782934</td>\n",
       "      <td>0.721607</td>\n",
       "      <td>0.665083</td>\n",
       "      <td>0.612986</td>\n",
       "      <td>5.649707e-01</td>\n",
       "      <td>5.207161e-01</td>\n",
       "    </tr>\n",
       "    <tr>\n",
       "      <th>163</th>\n",
       "      <td>-0.342402</td>\n",
       "      <td>1.0</td>\n",
       "      <td>0.732765</td>\n",
       "      <td>0.536944</td>\n",
       "      <td>0.393454</td>\n",
       "      <td>0.288309</td>\n",
       "      <td>0.211263</td>\n",
       "      <td>0.154806</td>\n",
       "      <td>1.134362e-01</td>\n",
       "      <td>8.312202e-02</td>\n",
       "    </tr>\n",
       "    <tr>\n",
       "      <th>84</th>\n",
       "      <td>0.684841</td>\n",
       "      <td>1.0</td>\n",
       "      <td>0.133203</td>\n",
       "      <td>0.017743</td>\n",
       "      <td>0.002363</td>\n",
       "      <td>0.000315</td>\n",
       "      <td>0.000042</td>\n",
       "      <td>0.000006</td>\n",
       "      <td>7.440394e-07</td>\n",
       "      <td>9.910822e-08</td>\n",
       "    </tr>\n",
       "    <tr>\n",
       "      <th>9</th>\n",
       "      <td>-0.608510</td>\n",
       "      <td>1.0</td>\n",
       "      <td>-0.233117</td>\n",
       "      <td>0.054344</td>\n",
       "      <td>-0.012668</td>\n",
       "      <td>0.002953</td>\n",
       "      <td>-0.000688</td>\n",
       "      <td>0.000160</td>\n",
       "      <td>-3.741253e-05</td>\n",
       "      <td>8.721496e-06</td>\n",
       "    </tr>\n",
       "  </tbody>\n",
       "</table>\n",
       "</div>"
      ],
      "text/plain": [
       "            y   x0         x        x2        x3        x4        x5  \\\n",
       "185  1.362810  1.0  0.227932  0.051953  0.011842  0.002699  0.000615   \n",
       "299 -0.490298  1.0  0.921669  0.849474  0.782934  0.721607  0.665083   \n",
       "163 -0.342402  1.0  0.732765  0.536944  0.393454  0.288309  0.211263   \n",
       "84   0.684841  1.0  0.133203  0.017743  0.002363  0.000315  0.000042   \n",
       "9   -0.608510  1.0 -0.233117  0.054344 -0.012668  0.002953 -0.000688   \n",
       "\n",
       "           x6            x7            x8  \n",
       "185  0.000140  3.196215e-05  7.285193e-06  \n",
       "299  0.612986  5.649707e-01  5.207161e-01  \n",
       "163  0.154806  1.134362e-01  8.312202e-02  \n",
       "84   0.000006  7.440394e-07  9.910822e-08  \n",
       "9    0.000160 -3.741253e-05  8.721496e-06  "
      ]
     },
     "execution_count": 2,
     "metadata": {},
     "output_type": "execute_result"
    }
   ],
   "source": [
    "#create new data for multivariate gradient descent\n",
    "data['x0']=data['x']**0\n",
    "data['x2']=data['x']**2\n",
    "data['x3']=data['x']**3\n",
    "data['x4']=data['x']**4\n",
    "data['x5']=data['x']**5\n",
    "data['x6']=data['x']**6\n",
    "data['x7']=data['x']**7\n",
    "data['x8']=data['x']**8\n",
    "\n",
    "#change columns for better access\n",
    "newY = data.pop('y')\n",
    "x0 = data.pop('x0')\n",
    "\n",
    "data.insert(0, 'y', newY)\n",
    "data.insert(1, 'x0', x0)\n",
    "\n",
    "#insert data in arrays\n",
    "y = data.iloc[:, 0].values\n",
    "X = data.iloc[:, 1:10].values\n",
    "\n",
    "mainX = data.iloc[:,2].values\n",
    "\n",
    "data.head(5)"
   ]
  },
  {
   "cell_type": "code",
   "execution_count": 3,
   "id": "fbb968e7",
   "metadata": {},
   "outputs": [],
   "source": [
    "def cost_function_MSE(X, Y, theta):\n",
    " m = len(Y)\n",
    " J = np.sum((X.dot(theta)-Y) ** 2)/(2 * m)\n",
    " return J"
   ]
  },
  {
   "cell_type": "code",
   "execution_count": 4,
   "id": "62cebcf9",
   "metadata": {},
   "outputs": [],
   "source": [
    "def gradient_descent(X, Y , Theta , alpha , iterations , xTest , yTest  ):\n",
    "    cost_history = [0] * iterations\n",
    "    test_cost_history = [0] * iterations\n",
    "    step_history = [0] * iterations\n",
    "    m = len(Y)\n",
    " \n",
    "    for iteration in range(iterations):\n",
    " # Hypothesis Values\n",
    "        h = X.dot(Theta)\n",
    "    \n",
    " # Difference b/w Hypothesis and Actual Y\n",
    "        loss = h - Y\n",
    "    \n",
    " # Gradient Calculation\n",
    "        gradient = X.T.dot(loss) / m\n",
    "    \n",
    " # Changing Values of B using Gradient\n",
    "        Theta = Theta - alpha * gradient\n",
    "        alpha = alpha - 0.0000049\n",
    "    \n",
    " # New Cost Value\n",
    "        cost = cost_function_MSE(X, Y, Theta)\n",
    "        cost_history[iteration] = cost\n",
    "        test_cost_history[iteration] = cost_function_MSE(xTest, yTest, Theta)\n",
    "        step_history[iteration] = alpha * gradient\n",
    " \n",
    "    return Theta, cost_history , test_cost_history , step_history"
   ]
  },
  {
   "cell_type": "code",
   "execution_count": 5,
   "id": "7648ab25",
   "metadata": {},
   "outputs": [],
   "source": [
    "#60% of data for train\n",
    "#40% of data for test\n",
    "m = 180\n",
    "\n",
    "X_train = X[:m]\n",
    "mainX_train = X[:m , 1]\n",
    "y_train = y[:m]\n",
    "\n",
    "X_test = X[m: , 1]\n",
    "xTest = X[m:]\n",
    "y_test = y[m:]"
   ]
  },
  {
   "cell_type": "code",
   "execution_count": 6,
   "id": "f8d0eb96",
   "metadata": {},
   "outputs": [
    {
     "name": "stdout",
     "output_type": "stream",
     "text": [
      "[ -0.0537716    3.60546046   1.50996928 -13.08092578  -0.6868006\n",
      "   3.19413249  -0.17782954   6.19904304   0.99809847]\n"
     ]
    }
   ],
   "source": [
    "# Initial Coefficients\n",
    "Theta = np.zeros(X_train.shape[1])\n",
    "\n",
    "alpha = 0.9\n",
    "iter_ = 5000\n",
    "\n",
    "newTheta, cost_history , test_cost_history , step_history = gradient_descent(X_train, y_train, Theta, alpha, iter_ , xTest , y_test )\n",
    "\n",
    "print(newTheta)"
   ]
  },
  {
   "cell_type": "code",
   "execution_count": 7,
   "id": "aa5ea8ff",
   "metadata": {},
   "outputs": [
    {
     "data": {
      "image/png": "[encoded data removed]",
      "text/plain": [
       "<Figure size 432x288 with 1 Axes>"
      ]
     },
     "metadata": {
      "needs_background": "light"
     },
     "output_type": "display_data"
    }
   ],
   "source": [
    "# plot\n",
    "sorted_X_train = np.sort(mainX_train)\n",
    "# sorted_X_train = mainX_train\n",
    "y_predict = [None] * len(sorted_X_train)\n",
    "\n",
    "for i in range(len(sorted_X_train)):\n",
    "    y_predict[i] = newTheta[0]+ newTheta[1]*sorted_X_train[i] + newTheta[2]*(sorted_X_train[i]**2) + newTheta[3]*(sorted_X_train[i]**3) + newTheta[4]*(sorted_X_train[i]**4) + newTheta[5]*(sorted_X_train[i]**5)+ newTheta[6]*(sorted_X_train[i]**6) + newTheta[7]*(sorted_X_train[i]**7) + newTheta[8]*(sorted_X_train[i]**8)\n",
    "\n",
    "\n",
    "plt.plot(sorted_X_train,y_predict)\n",
    "plt.plot(mainX_train,y_train , linestyle='', marker='o')\n",
    "\n",
    "plt.show()"
   ]
  },
  {
   "cell_type": "code",
   "execution_count": 8,
   "id": "8fc0dc9b",
   "metadata": {},
   "outputs": [],
   "source": [
    "#test\n",
    "def pred(testData , Thetas):\n",
    "    y_predict = [None] * len(testData)\n",
    "    for i in range(len(testData)):\n",
    "        y_predict[i] = Thetas[0]+ Thetas[1]*testData[i] + Thetas[2]*(testData[i]**2) + Thetas[3]*(testData[i]**3) + Thetas[4]*(testData[i]**4) + Thetas[5]*(testData[i]**5)+ Thetas[6]*(testData[i]**6) + Thetas[7]*(testData[i]**7) + Thetas[8]*(testData[i]**8)\n",
    "    \n",
    "    return (y_predict)"
   ]
  },
  {
   "cell_type": "code",
   "execution_count": 9,
   "id": "09d017c6",
   "metadata": {},
   "outputs": [],
   "source": [
    "def r2(y_,y):\n",
    "    sst = np.sum((y-y.mean())**2)\n",
    "    ssr = np.sum((y_-y)**2)\n",
    "    r2 = 1-(ssr/sst)\n",
    "    return(abs(r2))"
   ]
  },
  {
   "cell_type": "code",
   "execution_count": 10,
   "id": "9c7692a2",
   "metadata": {},
   "outputs": [],
   "source": [
    "y_ = pred(X_test,newTheta)"
   ]
  },
  {
   "cell_type": "code",
   "execution_count": 11,
   "id": "e51314e1",
   "metadata": {},
   "outputs": [
    {
     "data": {
      "text/plain": [
       "0.7527552280214207"
      ]
     },
     "execution_count": 11,
     "metadata": {},
     "output_type": "execute_result"
    }
   ],
   "source": [
    "r2(y_,y_test)"
   ]
  },
  {
   "cell_type": "code",
   "execution_count": 12,
   "id": "d2154c9f",
   "metadata": {},
   "outputs": [
    {
     "data": {
      "image/png": "[encoded data removed]",
      "text/plain": [
       "<Figure size 432x288 with 1 Axes>"
      ]
     },
     "metadata": {
      "needs_background": "light"
     },
     "output_type": "display_data"
    }
   ],
   "source": [
    "# Plot the convergence graph for learning cost\n",
    "plt.plot(np.arange(iter_), cost_history)\n",
    "plt.xlabel('Number of iterations')\n",
    "plt.ylabel('Learning Cost')\n",
    "plt.show()"
   ]
  },
  {
   "cell_type": "code",
   "execution_count": 13,
   "id": "2e4ba4fa",
   "metadata": {},
   "outputs": [
    {
     "data": {
      "image/png": "[encoded data removed]",
      "text/plain": [
       "<Figure size 432x288 with 1 Axes>"
      ]
     },
     "metadata": {
      "needs_background": "light"
     },
     "output_type": "display_data"
    }
   ],
   "source": [
    "# Plot the convergence graph for testing cost\n",
    "plt.plot(np.arange(iter_), test_cost_history)\n",
    "plt.xlabel('Number of iterations')\n",
    "plt.ylabel('Testing Cost')\n",
    "plt.show()"
   ]
  },
  {
   "cell_type": "code",
   "execution_count": 14,
   "id": "a4041234",
   "metadata": {},
   "outputs": [
    {
     "data": {
      "image/png": "[encoded data removed]",
      "text/plain": [
       "<Figure size 432x288 with 1 Axes>"
      ]
     },
     "metadata": {
      "needs_background": "light"
     },
     "output_type": "display_data"
    }
   ],
   "source": [
    "# Plot the convergence graph for thetas Step\n",
    "plt.plot(np.arange(iter_), step_history)\n",
    "plt.xlabel('Number of iterations')\n",
    "plt.ylabel('Steps')\n",
    "plt.show()"
   ]
  }
 ],
 "metadata": {
  "kernelspec": {
   "display_name": "Python 3",
   "language": "python",
   "name": "python3"
  },
  "language_info": {
   "codemirror_mode": {
    "name": "ipython",
    "version": 3
   },
   "file_extension": ".py",
   "mimetype": "text/x-python",
   "name": "python",
   "nbconvert_exporter": "python",
   "pygments_lexer": "ipython3",
   "version": "3.8.8"
  }
 },
 "nbformat": 4,
 "nbformat_minor": 5
}
