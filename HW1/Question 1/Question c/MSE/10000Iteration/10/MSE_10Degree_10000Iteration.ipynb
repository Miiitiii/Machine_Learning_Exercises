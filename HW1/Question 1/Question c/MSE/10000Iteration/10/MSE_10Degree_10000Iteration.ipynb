{
 "cells": [
  {
   "cell_type": "code",
   "execution_count": 1,
   "id": "5e4f75fe",
   "metadata": {},
   "outputs": [],
   "source": [
    "import numpy as np\n",
    "from matplotlib import pyplot as plt\n",
    "import pandas as pd\n",
    "\n",
    "address = 'D:/HomeWork/Machine Learning/ML-HW01/ML-HW01/dataset1/dataset1.csv'\n",
    "\n",
    "df = pd.read_csv(address)\n",
    "data = df.sample(frac=1)"
   ]
  },
  {
   "cell_type": "code",
   "execution_count": 2,
   "id": "e308e911",
   "metadata": {},
   "outputs": [
    {
     "data": {
      "text/html": [
       "<div>\n",
       "<style scoped>\n",
       "    .dataframe tbody tr th:only-of-type {\n",
       "        vertical-align: middle;\n",
       "    }\n",
       "\n",
       "    .dataframe tbody tr th {\n",
       "        vertical-align: top;\n",
       "    }\n",
       "\n",
       "    .dataframe thead th {\n",
       "        text-align: right;\n",
       "    }\n",
       "</style>\n",
       "<table border=\"1\" class=\"dataframe\">\n",
       "  <thead>\n",
       "    <tr style=\"text-align: right;\">\n",
       "      <th></th>\n",
       "      <th>y</th>\n",
       "      <th>x0</th>\n",
       "      <th>x</th>\n",
       "      <th>x2</th>\n",
       "      <th>x3</th>\n",
       "      <th>x4</th>\n",
       "      <th>x5</th>\n",
       "      <th>x6</th>\n",
       "      <th>x7</th>\n",
       "      <th>x8</th>\n",
       "      <th>x9</th>\n",
       "      <th>x10</th>\n",
       "    </tr>\n",
       "  </thead>\n",
       "  <tbody>\n",
       "    <tr>\n",
       "      <th>62</th>\n",
       "      <td>1.348749</td>\n",
       "      <td>1.0</td>\n",
       "      <td>0.312659</td>\n",
       "      <td>0.097756</td>\n",
       "      <td>0.030564</td>\n",
       "      <td>0.009556</td>\n",
       "      <td>0.002988</td>\n",
       "      <td>0.000934</td>\n",
       "      <td>0.000292</td>\n",
       "      <td>0.000091</td>\n",
       "      <td>0.000029</td>\n",
       "      <td>0.000009</td>\n",
       "    </tr>\n",
       "    <tr>\n",
       "      <th>200</th>\n",
       "      <td>-0.227275</td>\n",
       "      <td>1.0</td>\n",
       "      <td>-0.376408</td>\n",
       "      <td>0.141683</td>\n",
       "      <td>-0.053331</td>\n",
       "      <td>0.020074</td>\n",
       "      <td>-0.007556</td>\n",
       "      <td>0.002844</td>\n",
       "      <td>-0.001071</td>\n",
       "      <td>0.000403</td>\n",
       "      <td>-0.000152</td>\n",
       "      <td>0.000057</td>\n",
       "    </tr>\n",
       "    <tr>\n",
       "      <th>250</th>\n",
       "      <td>-0.360728</td>\n",
       "      <td>1.0</td>\n",
       "      <td>-0.288775</td>\n",
       "      <td>0.083391</td>\n",
       "      <td>-0.024081</td>\n",
       "      <td>0.006954</td>\n",
       "      <td>-0.002008</td>\n",
       "      <td>0.000580</td>\n",
       "      <td>-0.000167</td>\n",
       "      <td>0.000048</td>\n",
       "      <td>-0.000014</td>\n",
       "      <td>0.000004</td>\n",
       "    </tr>\n",
       "    <tr>\n",
       "      <th>20</th>\n",
       "      <td>0.444572</td>\n",
       "      <td>1.0</td>\n",
       "      <td>0.957237</td>\n",
       "      <td>0.916302</td>\n",
       "      <td>0.877118</td>\n",
       "      <td>0.839609</td>\n",
       "      <td>0.803705</td>\n",
       "      <td>0.769336</td>\n",
       "      <td>0.736437</td>\n",
       "      <td>0.704944</td>\n",
       "      <td>0.674798</td>\n",
       "      <td>0.645942</td>\n",
       "    </tr>\n",
       "    <tr>\n",
       "      <th>79</th>\n",
       "      <td>1.637844</td>\n",
       "      <td>1.0</td>\n",
       "      <td>-0.762545</td>\n",
       "      <td>0.581474</td>\n",
       "      <td>-0.443400</td>\n",
       "      <td>0.338112</td>\n",
       "      <td>-0.257826</td>\n",
       "      <td>0.196604</td>\n",
       "      <td>-0.149919</td>\n",
       "      <td>0.114320</td>\n",
       "      <td>-0.087174</td>\n",
       "      <td>0.066474</td>\n",
       "    </tr>\n",
       "  </tbody>\n",
       "</table>\n",
       "</div>"
      ],
      "text/plain": [
       "            y   x0         x        x2        x3        x4        x5  \\\n",
       "62   1.348749  1.0  0.312659  0.097756  0.030564  0.009556  0.002988   \n",
       "200 -0.227275  1.0 -0.376408  0.141683 -0.053331  0.020074 -0.007556   \n",
       "250 -0.360728  1.0 -0.288775  0.083391 -0.024081  0.006954 -0.002008   \n",
       "20   0.444572  1.0  0.957237  0.916302  0.877118  0.839609  0.803705   \n",
       "79   1.637844  1.0 -0.762545  0.581474 -0.443400  0.338112 -0.257826   \n",
       "\n",
       "           x6        x7        x8        x9       x10  \n",
       "62   0.000934  0.000292  0.000091  0.000029  0.000009  \n",
       "200  0.002844 -0.001071  0.000403 -0.000152  0.000057  \n",
       "250  0.000580 -0.000167  0.000048 -0.000014  0.000004  \n",
       "20   0.769336  0.736437  0.704944  0.674798  0.645942  \n",
       "79   0.196604 -0.149919  0.114320 -0.087174  0.066474  "
      ]
     },
     "execution_count": 2,
     "metadata": {},
     "output_type": "execute_result"
    }
   ],
   "source": [
    "#create new data for multivariate gradient descent\n",
    "data['x0']=data['x']**0\n",
    "data['x2']=data['x']**2\n",
    "data['x3']=data['x']**3\n",
    "data['x4']=data['x']**4\n",
    "data['x5']=data['x']**5\n",
    "data['x6']=data['x']**6\n",
    "data['x7']=data['x']**7\n",
    "data['x8']=data['x']**8\n",
    "data['x9']=data['x']**9\n",
    "data['x10']=data['x']**10\n",
    "\n",
    "#change columns for better access\n",
    "newY = data.pop('y')\n",
    "x0 = data.pop('x0')\n",
    "\n",
    "data.insert(0, 'y', newY)\n",
    "data.insert(1, 'x0', x0)\n",
    "\n",
    "#insert data in arrays\n",
    "y = data.iloc[:, 0].values\n",
    "X = data.iloc[:, 1:12].values\n",
    "\n",
    "mainX = data.iloc[:,2].values\n",
    "\n",
    "data.head(5)"
   ]
  },
  {
   "cell_type": "code",
   "execution_count": 3,
   "id": "686af09f",
   "metadata": {},
   "outputs": [],
   "source": [
    "def cost_function_MSE(X, Y, theta):\n",
    " m = len(Y)\n",
    " J = np.sum((X.dot(theta)-Y) ** 2)/(2 * m)\n",
    " return J"
   ]
  },
  {
   "cell_type": "code",
   "execution_count": 4,
   "id": "db3e12fa",
   "metadata": {},
   "outputs": [],
   "source": [
    "def gradient_descent(X, Y , Theta , alpha , iterations , xTest , yTest  ):\n",
    "    cost_history = [0] * iterations\n",
    "    test_cost_history = [0] * iterations\n",
    "    step_history = [0] * iterations\n",
    "    m = len(Y)\n",
    " \n",
    "    for iteration in range(iterations):\n",
    " # Hypothesis Values\n",
    "        h = X.dot(Theta)\n",
    "    \n",
    " # Difference b/w Hypothesis and Actual Y\n",
    "        loss = h - Y\n",
    "    \n",
    " # Gradient Calculation\n",
    "        gradient = X.T.dot(loss) / m\n",
    "    \n",
    " # Changing Values of B using Gradient\n",
    "        Theta = Theta - alpha * gradient\n",
    "        alpha = alpha - 0.000003\n",
    "    \n",
    " # New Cost Value\n",
    "        cost = cost_function_MSE(X, Y, Theta)\n",
    "        cost_history[iteration] = cost\n",
    "        test_cost_history[iteration] = cost_function_MSE(xTest, yTest, Theta)\n",
    "        step_history[iteration] = alpha * gradient\n",
    " \n",
    "    return Theta, cost_history , test_cost_history , step_history"
   ]
  },
  {
   "cell_type": "code",
   "execution_count": 5,
   "id": "7e6343e8",
   "metadata": {},
   "outputs": [],
   "source": [
    "#60% of data for train\n",
    "#40% of data for test\n",
    "m = 180\n",
    "\n",
    "X_train = X[:m]\n",
    "mainX_train = X[:m , 1]\n",
    "y_train = y[:m]\n",
    "\n",
    "X_test = X[m: , 1]\n",
    "xTest = X[m:]\n",
    "y_test = y[m:]"
   ]
  },
  {
   "cell_type": "code",
   "execution_count": 6,
   "id": "81e7a334",
   "metadata": {},
   "outputs": [
    {
     "name": "stdout",
     "output_type": "stream",
     "text": [
      "[-4.10663778e-03  3.85012645e+00  1.04131823e+00 -1.54884581e+01\n",
      " -1.63613175e-01  8.02856827e+00  9.71128140e-01  6.41367583e+00\n",
      "  5.08338788e-01 -3.51312405e+00 -1.23411091e+00]\n"
     ]
    }
   ],
   "source": [
    "# Initial Coefficients\n",
    "Theta = np.zeros(X_train.shape[1])\n",
    "\n",
    "alpha = 0.9\n",
    "iter_ = 10000\n",
    "\n",
    "newTheta, cost_history , test_cost_history , step_history = gradient_descent(X_train, y_train, Theta, alpha, iter_ , xTest , y_test )\n",
    "\n",
    "print(newTheta)"
   ]
  },
  {
   "cell_type": "code",
   "execution_count": 7,
   "id": "63d53d8b",
   "metadata": {},
   "outputs": [
    {
     "data": {
      "image/png": "[encoded data removed]",
      "text/plain": [
       "<Figure size 432x288 with 1 Axes>"
      ]
     },
     "metadata": {
      "needs_background": "light"
     },
     "output_type": "display_data"
    }
   ],
   "source": [
    "# plot\n",
    "sorted_X_train = np.sort(mainX_train)\n",
    "# sorted_X_train = mainX_train\n",
    "y_predict = [None] * len(sorted_X_train)\n",
    "\n",
    "for i in range(len(sorted_X_train)):\n",
    "    y_predict[i] = newTheta[0]+ newTheta[1]*sorted_X_train[i] + newTheta[2]*(sorted_X_train[i]**2) + newTheta[3]*(sorted_X_train[i]**3) + newTheta[4]*(sorted_X_train[i]**4) + newTheta[5]*(sorted_X_train[i]**5)+ newTheta[6]*(sorted_X_train[i]**6) + newTheta[7]*(sorted_X_train[i]**7) + newTheta[8]*(sorted_X_train[i]**8)+ newTheta[9]*(sorted_X_train[i]**9) + newTheta[10]*(sorted_X_train[i]**10)\n",
    "\n",
    "\n",
    "plt.plot(sorted_X_train,y_predict)\n",
    "plt.plot(mainX_train,y_train , linestyle='', marker='o')\n",
    "\n",
    "plt.show()"
   ]
  },
  {
   "cell_type": "code",
   "execution_count": 8,
   "id": "26aa48eb",
   "metadata": {},
   "outputs": [],
   "source": [
    "#test\n",
    "def pred(testData , Thetas):\n",
    "    y_predict = [None] * len(testData)\n",
    "    for i in range(len(testData)):\n",
    "        y_predict[i] = Thetas[0]+ Thetas[1]*testData[i] + Thetas[2]*(testData[i]**2) + Thetas[3]*(testData[i]**3) + Thetas[4]*(testData[i]**4) + Thetas[5]*(testData[i]**5)+ Thetas[6]*(testData[i]**6) + Thetas[7]*(testData[i]**7) + Thetas[8]*(testData[i]**8)+ Thetas[9]*(testData[i]**9) + Thetas[10]*(testData[i]**10)\n",
    "    \n",
    "    return (y_predict)"
   ]
  },
  {
   "cell_type": "code",
   "execution_count": 9,
   "id": "c2ca6aec",
   "metadata": {},
   "outputs": [],
   "source": [
    "def r2(y_,y):\n",
    "    sst = np.sum((y-y.mean())**2)\n",
    "    ssr = np.sum((y_-y)**2)\n",
    "    r2 = 1-(ssr/sst)\n",
    "    return(abs(r2))"
   ]
  },
  {
   "cell_type": "code",
   "execution_count": 10,
   "id": "b469b81c",
   "metadata": {},
   "outputs": [],
   "source": [
    "y_ = pred(X_test,newTheta)"
   ]
  },
  {
   "cell_type": "code",
   "execution_count": 11,
   "id": "447eaccd",
   "metadata": {},
   "outputs": [
    {
     "data": {
      "text/plain": [
       "0.8268620491400882"
      ]
     },
     "execution_count": 11,
     "metadata": {},
     "output_type": "execute_result"
    }
   ],
   "source": [
    "r2(y_,y_test)"
   ]
  },
  {
   "cell_type": "code",
   "execution_count": 12,
   "id": "cc904d07",
   "metadata": {},
   "outputs": [
    {
     "data": {
      "image/png": "[encoded data removed]",
      "text/plain": [
       "<Figure size 432x288 with 1 Axes>"
      ]
     },
     "metadata": {
      "needs_background": "light"
     },
     "output_type": "display_data"
    }
   ],
   "source": [
    "# Plot the convergence graph for learning cost\n",
    "plt.plot(np.arange(iter_), cost_history)\n",
    "plt.xlabel('Number of iterations')\n",
    "plt.ylabel('Learning Cost')\n",
    "plt.show()"
   ]
  },
  {
   "cell_type": "code",
   "execution_count": 13,
   "id": "58b00335",
   "metadata": {},
   "outputs": [
    {
     "data": {
      "image/png": "[encoded data removed]",
      "text/plain": [
       "<Figure size 432x288 with 1 Axes>"
      ]
     },
     "metadata": {
      "needs_background": "light"
     },
     "output_type": "display_data"
    }
   ],
   "source": [
    "# Plot the convergence graph for testing cost\n",
    "plt.plot(np.arange(iter_), test_cost_history)\n",
    "plt.xlabel('Number of iterations')\n",
    "plt.ylabel('Testing Cost')\n",
    "plt.show()"
   ]
  },
  {
   "cell_type": "code",
   "execution_count": 14,
   "id": "0a4da9ee",
   "metadata": {},
   "outputs": [
    {
     "data": {
      "image/png": "[encoded data removed]",
      "text/plain": [
       "<Figure size 432x288 with 1 Axes>"
      ]
     },
     "metadata": {
      "needs_background": "light"
     },
     "output_type": "display_data"
    }
   ],
   "source": [
    "# Plot the convergence graph for thetas Step\n",
    "plt.plot(np.arange(iter_), step_history)\n",
    "plt.xlabel('Number of iterations')\n",
    "plt.ylabel('Steps')\n",
    "plt.show()"
   ]
  },
  {
   "cell_type": "code",
   "execution_count": null,
   "id": "4e29c4ad",
   "metadata": {},
   "outputs": [],
   "source": []
  }
 ],
 "metadata": {
  "kernelspec": {
   "display_name": "Python 3",
   "language": "python",
   "name": "python3"
  },
  "language_info": {
   "codemirror_mode": {
    "name": "ipython",
    "version": 3
   },
   "file_extension": ".py",
   "mimetype": "text/x-python",
   "name": "python",
   "nbconvert_exporter": "python",
   "pygments_lexer": "ipython3",
   "version": "3.8.8"
  }
 },
 "nbformat": 4,
 "nbformat_minor": 5
}
