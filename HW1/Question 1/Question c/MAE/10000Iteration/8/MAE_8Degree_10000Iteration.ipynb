{
 "cells": [
  {
   "cell_type": "code",
   "execution_count": 1,
   "id": "d3365ac2",
   "metadata": {},
   "outputs": [],
   "source": [
    "import numpy as np\n",
    "from matplotlib import pyplot as plt\n",
    "import pandas as pd\n",
    "\n",
    "address = 'D:/HomeWork/Machine Learning/ML-HW01/ML-HW01/dataset1/dataset1.csv'\n",
    "\n",
    "df = pd.read_csv(address)\n",
    "data = df.sample(frac=1)"
   ]
  },
  {
   "cell_type": "code",
   "execution_count": 2,
   "id": "d6bed1fd",
   "metadata": {},
   "outputs": [
    {
     "data": {
      "text/html": [
       "<div>\n",
       "<style scoped>\n",
       "    .dataframe tbody tr th:only-of-type {\n",
       "        vertical-align: middle;\n",
       "    }\n",
       "\n",
       "    .dataframe tbody tr th {\n",
       "        vertical-align: top;\n",
       "    }\n",
       "\n",
       "    .dataframe thead th {\n",
       "        text-align: right;\n",
       "    }\n",
       "</style>\n",
       "<table border=\"1\" class=\"dataframe\">\n",
       "  <thead>\n",
       "    <tr style=\"text-align: right;\">\n",
       "      <th></th>\n",
       "      <th>y</th>\n",
       "      <th>x0</th>\n",
       "      <th>x</th>\n",
       "      <th>x2</th>\n",
       "      <th>x3</th>\n",
       "      <th>x4</th>\n",
       "      <th>x5</th>\n",
       "      <th>x6</th>\n",
       "      <th>x7</th>\n",
       "      <th>x8</th>\n",
       "    </tr>\n",
       "  </thead>\n",
       "  <tbody>\n",
       "    <tr>\n",
       "      <th>46</th>\n",
       "      <td>1.530218</td>\n",
       "      <td>1.0</td>\n",
       "      <td>-0.579235</td>\n",
       "      <td>0.335513</td>\n",
       "      <td>-0.194341</td>\n",
       "      <td>0.112569</td>\n",
       "      <td>-0.065204</td>\n",
       "      <td>3.776837e-02</td>\n",
       "      <td>-2.187676e-02</td>\n",
       "      <td>1.267178e-02</td>\n",
       "    </tr>\n",
       "    <tr>\n",
       "      <th>3</th>\n",
       "      <td>0.427504</td>\n",
       "      <td>1.0</td>\n",
       "      <td>0.089766</td>\n",
       "      <td>0.008058</td>\n",
       "      <td>0.000723</td>\n",
       "      <td>0.000065</td>\n",
       "      <td>0.000006</td>\n",
       "      <td>5.232170e-07</td>\n",
       "      <td>4.696729e-08</td>\n",
       "      <td>4.216083e-09</td>\n",
       "    </tr>\n",
       "    <tr>\n",
       "      <th>209</th>\n",
       "      <td>-0.292342</td>\n",
       "      <td>1.0</td>\n",
       "      <td>0.793343</td>\n",
       "      <td>0.629392</td>\n",
       "      <td>0.499324</td>\n",
       "      <td>0.396135</td>\n",
       "      <td>0.314271</td>\n",
       "      <td>2.493243e-01</td>\n",
       "      <td>1.977996e-01</td>\n",
       "      <td>1.569228e-01</td>\n",
       "    </tr>\n",
       "    <tr>\n",
       "      <th>243</th>\n",
       "      <td>1.811426</td>\n",
       "      <td>1.0</td>\n",
       "      <td>-0.735864</td>\n",
       "      <td>0.541496</td>\n",
       "      <td>-0.398467</td>\n",
       "      <td>0.293217</td>\n",
       "      <td>-0.215768</td>\n",
       "      <td>1.587759e-01</td>\n",
       "      <td>-1.168374e-01</td>\n",
       "      <td>8.597644e-02</td>\n",
       "    </tr>\n",
       "    <tr>\n",
       "      <th>200</th>\n",
       "      <td>-0.227275</td>\n",
       "      <td>1.0</td>\n",
       "      <td>-0.376408</td>\n",
       "      <td>0.141683</td>\n",
       "      <td>-0.053331</td>\n",
       "      <td>0.020074</td>\n",
       "      <td>-0.007556</td>\n",
       "      <td>2.844164e-03</td>\n",
       "      <td>-1.070567e-03</td>\n",
       "      <td>4.029702e-04</td>\n",
       "    </tr>\n",
       "  </tbody>\n",
       "</table>\n",
       "</div>"
      ],
      "text/plain": [
       "            y   x0         x        x2        x3        x4        x5  \\\n",
       "46   1.530218  1.0 -0.579235  0.335513 -0.194341  0.112569 -0.065204   \n",
       "3    0.427504  1.0  0.089766  0.008058  0.000723  0.000065  0.000006   \n",
       "209 -0.292342  1.0  0.793343  0.629392  0.499324  0.396135  0.314271   \n",
       "243  1.811426  1.0 -0.735864  0.541496 -0.398467  0.293217 -0.215768   \n",
       "200 -0.227275  1.0 -0.376408  0.141683 -0.053331  0.020074 -0.007556   \n",
       "\n",
       "               x6            x7            x8  \n",
       "46   3.776837e-02 -2.187676e-02  1.267178e-02  \n",
       "3    5.232170e-07  4.696729e-08  4.216083e-09  \n",
       "209  2.493243e-01  1.977996e-01  1.569228e-01  \n",
       "243  1.587759e-01 -1.168374e-01  8.597644e-02  \n",
       "200  2.844164e-03 -1.070567e-03  4.029702e-04  "
      ]
     },
     "execution_count": 2,
     "metadata": {},
     "output_type": "execute_result"
    }
   ],
   "source": [
    "#create new data for multivariate gradient descent\n",
    "data['x0']=data['x']**0\n",
    "data['x2']=data['x']**2\n",
    "data['x3']=data['x']**3\n",
    "data['x4']=data['x']**4\n",
    "data['x5']=data['x']**5\n",
    "data['x6']=data['x']**6\n",
    "data['x7']=data['x']**7\n",
    "data['x8']=data['x']**8\n",
    "\n",
    "#change columns for better access\n",
    "newY = data.pop('y')\n",
    "x0 = data.pop('x0')\n",
    "\n",
    "data.insert(0, 'y', newY)\n",
    "data.insert(1, 'x0', x0)\n",
    "\n",
    "#insert data in arrays\n",
    "y = data.iloc[:, 0].values\n",
    "X = data.iloc[:, 1:10].values\n",
    "\n",
    "mainX = data.iloc[:,2].values\n",
    "\n",
    "data.head(5)"
   ]
  },
  {
   "cell_type": "code",
   "execution_count": 3,
   "id": "a1ae3290",
   "metadata": {},
   "outputs": [],
   "source": [
    "def cost_function_MAE(X, Y, theta):\n",
    "    m = len(Y)\n",
    "    J = np.sum(abs(X.dot(theta)-Y))/(2 * m)\n",
    "    return J"
   ]
  },
  {
   "cell_type": "code",
   "execution_count": 15,
   "id": "9c714754",
   "metadata": {},
   "outputs": [],
   "source": [
    "def gradient_descent(X, Y , Theta , alpha , iterations , xTest , yTest  ):\n",
    "    cost_history = [0] * iterations\n",
    "    test_cost_history = [0] * iterations\n",
    "    step_history = [0] * iterations\n",
    "    m = len(Y)\n",
    " \n",
    "    for iteration in range(iterations):\n",
    " # Hypothesis Values\n",
    "        h = X.dot(Theta)\n",
    "    \n",
    " # Difference b/w Hypothesis and Actual Y\n",
    "        loss = h - Y\n",
    "    \n",
    " # Gradient Calculation\n",
    "    \n",
    "        judge = loss / abs(loss)\n",
    "        \n",
    "        gradient = X.T.dot(judge) / (2*m)\n",
    "    \n",
    " # Changing Values of B using Gradient\n",
    "        Theta = Theta - alpha * gradient\n",
    "        alpha = alpha - 0.000001\n",
    "    \n",
    " # New Cost Value\n",
    "        cost = cost_function_MAE(X, Y, Theta)\n",
    "        cost_history[iteration] = cost\n",
    "        test_cost_history[iteration] = cost_function_MAE(xTest, yTest, Theta)\n",
    "        step_history[iteration] = alpha * gradient\n",
    "        \n",
    "    return Theta, cost_history , test_cost_history , step_history"
   ]
  },
  {
   "cell_type": "code",
   "execution_count": 16,
   "id": "9e0becb6",
   "metadata": {},
   "outputs": [],
   "source": [
    "#60% of data for train\n",
    "#40% of data for test\n",
    "m = 180\n",
    "\n",
    "X_train = X[:m]\n",
    "mainX_train = X[:m , 1]\n",
    "y_train = y[:m]\n",
    "\n",
    "X_test = X[m: , 1]\n",
    "xTest = X[m:]\n",
    "y_test = y[m:]"
   ]
  },
  {
   "cell_type": "code",
   "execution_count": 17,
   "id": "a97794d8",
   "metadata": {},
   "outputs": [
    {
     "name": "stdout",
     "output_type": "stream",
     "text": [
      "[  0.06452098   4.02717931   0.38369718 -15.10283782   1.57221414\n",
      "   6.55667265   1.07399634   4.52560267  -1.75684579]\n"
     ]
    }
   ],
   "source": [
    "# Initial Coefficients\n",
    "Theta = np.zeros(X_train.shape[1])\n",
    "\n",
    "alpha = 0.9\n",
    "iter_ = 10000\n",
    "\n",
    "newTheta, cost_history , test_cost_history , step_history = gradient_descent(X_train, y_train, Theta, alpha, iter_ , xTest , y_test )\n",
    "\n",
    "print(newTheta)"
   ]
  },
  {
   "cell_type": "code",
   "execution_count": 18,
   "id": "7e7f7fc9",
   "metadata": {},
   "outputs": [
    {
     "data": {
      "image/png": "[encoded data removed]",
      "text/plain": [
       "<Figure size 432x288 with 1 Axes>"
      ]
     },
     "metadata": {
      "needs_background": "light"
     },
     "output_type": "display_data"
    }
   ],
   "source": [
    "# plot\n",
    "sorted_X_train = np.sort(mainX_train)\n",
    "# sorted_X_train = mainX_train\n",
    "y_predict = [None] * len(sorted_X_train)\n",
    "\n",
    "for i in range(len(sorted_X_train)):\n",
    "    y_predict[i] = newTheta[0]+ newTheta[1]*sorted_X_train[i] + newTheta[2]*(sorted_X_train[i]**2) + newTheta[3]*(sorted_X_train[i]**3) + newTheta[4]*(sorted_X_train[i]**4) + newTheta[5]*(sorted_X_train[i]**5)+ newTheta[6]*(sorted_X_train[i]**6) + newTheta[7]*(sorted_X_train[i]**7) + newTheta[8]*(sorted_X_train[i]**8)\n",
    "\n",
    "\n",
    "plt.plot(sorted_X_train,y_predict)\n",
    "plt.plot(mainX_train,y_train , linestyle='', marker='o')\n",
    "\n",
    "plt.show()"
   ]
  },
  {
   "cell_type": "code",
   "execution_count": 19,
   "id": "f6c7c232",
   "metadata": {},
   "outputs": [],
   "source": [
    "#test\n",
    "def pred(testData , Thetas):\n",
    "    y_predict = [None] * len(testData)\n",
    "    for i in range(len(testData)):\n",
    "        y_predict[i] = Thetas[0]+ Thetas[1]*testData[i] + Thetas[2]*(testData[i]**2) + Thetas[3]*(testData[i]**3) + Thetas[4]*(testData[i]**4) + Thetas[5]*(testData[i]**5)+ Thetas[6]*(testData[i]**6) + Thetas[7]*(testData[i]**7) + Thetas[8]*(testData[i]**8)\n",
    "    \n",
    "    return (y_predict)"
   ]
  },
  {
   "cell_type": "code",
   "execution_count": 20,
   "id": "43478091",
   "metadata": {},
   "outputs": [],
   "source": [
    "def r2(y_,y):\n",
    "    sst = np.sum((y-y.mean())**2)\n",
    "    ssr = np.sum((y_-y)**2)\n",
    "    r2 = 1-(ssr/sst)\n",
    "    return(abs(r2))"
   ]
  },
  {
   "cell_type": "code",
   "execution_count": 21,
   "id": "f632c66a",
   "metadata": {},
   "outputs": [],
   "source": [
    "y_ = pred(X_test,newTheta)"
   ]
  },
  {
   "cell_type": "code",
   "execution_count": 22,
   "id": "7ad4f6bc",
   "metadata": {},
   "outputs": [
    {
     "data": {
      "text/plain": [
       "0.7791823933143109"
      ]
     },
     "execution_count": 22,
     "metadata": {},
     "output_type": "execute_result"
    }
   ],
   "source": [
    "r2(y_,y_test)"
   ]
  },
  {
   "cell_type": "code",
   "execution_count": 23,
   "id": "3855bab3",
   "metadata": {},
   "outputs": [
    {
     "data": {
      "image/png": "[encoded data removed]",
      "text/plain": [
       "<Figure size 432x288 with 1 Axes>"
      ]
     },
     "metadata": {
      "needs_background": "light"
     },
     "output_type": "display_data"
    }
   ],
   "source": [
    "# Plot the convergence graph for learning cost\n",
    "plt.plot(np.arange(iter_), cost_history)\n",
    "plt.xlabel('Number of iterations')\n",
    "plt.ylabel('Learning Cost')\n",
    "plt.show()"
   ]
  },
  {
   "cell_type": "code",
   "execution_count": 24,
   "id": "774e3563",
   "metadata": {},
   "outputs": [
    {
     "data": {
      "image/png": "[encoded data removed]",
      "text/plain": [
       "<Figure size 432x288 with 1 Axes>"
      ]
     },
     "metadata": {
      "needs_background": "light"
     },
     "output_type": "display_data"
    }
   ],
   "source": [
    "# Plot the convergence graph for testing cost\n",
    "plt.plot(np.arange(iter_), test_cost_history)\n",
    "plt.xlabel('Number of iterations')\n",
    "plt.ylabel('Testing Cost')\n",
    "plt.show()"
   ]
  },
  {
   "cell_type": "code",
   "execution_count": 25,
   "id": "099951cb",
   "metadata": {},
   "outputs": [
    {
     "data": {
      "image/png": "[encoded data removed]",
      "text/plain": [
       "<Figure size 432x288 with 1 Axes>"
      ]
     },
     "metadata": {
      "needs_background": "light"
     },
     "output_type": "display_data"
    }
   ],
   "source": [
    "# Plot the convergence graph for thetas Step\n",
    "plt.plot(np.arange(iter_), step_history)\n",
    "plt.xlabel('Number of iterations')\n",
    "plt.ylabel('Steps')\n",
    "plt.show()"
   ]
  },
  {
   "cell_type": "code",
   "execution_count": null,
   "id": "faaf66d4",
   "metadata": {},
   "outputs": [],
   "source": []
  }
 ],
 "metadata": {
  "kernelspec": {
   "display_name": "Python 3",
   "language": "python",
   "name": "python3"
  },
  "language_info": {
   "codemirror_mode": {
    "name": "ipython",
    "version": 3
   },
   "file_extension": ".py",
   "mimetype": "text/x-python",
   "name": "python",
   "nbconvert_exporter": "python",
   "pygments_lexer": "ipython3",
   "version": "3.8.8"
  }
 },
 "nbformat": 4,
 "nbformat_minor": 5
}
