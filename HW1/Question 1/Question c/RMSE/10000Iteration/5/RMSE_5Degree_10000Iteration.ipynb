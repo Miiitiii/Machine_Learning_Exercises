{
 "cells": [
  {
   "cell_type": "code",
   "execution_count": 1,
   "id": "3441cba5",
   "metadata": {},
   "outputs": [],
   "source": [
    "import numpy as np\n",
    "from matplotlib import pyplot as plt\n",
    "import pandas as pd\n",
    "\n",
    "address = 'D:/HomeWork/Machine Learning/ML-HW01/ML-HW01/dataset1/dataset1.csv'\n",
    "\n",
    "df = pd.read_csv(address)\n",
    "data = df.sample(frac=1)"
   ]
  },
  {
   "cell_type": "code",
   "execution_count": 2,
   "id": "25e070f2",
   "metadata": {},
   "outputs": [
    {
     "data": {
      "text/html": [
       "<div>\n",
       "<style scoped>\n",
       "    .dataframe tbody tr th:only-of-type {\n",
       "        vertical-align: middle;\n",
       "    }\n",
       "\n",
       "    .dataframe tbody tr th {\n",
       "        vertical-align: top;\n",
       "    }\n",
       "\n",
       "    .dataframe thead th {\n",
       "        text-align: right;\n",
       "    }\n",
       "</style>\n",
       "<table border=\"1\" class=\"dataframe\">\n",
       "  <thead>\n",
       "    <tr style=\"text-align: right;\">\n",
       "      <th></th>\n",
       "      <th>y</th>\n",
       "      <th>x0</th>\n",
       "      <th>x</th>\n",
       "      <th>x2</th>\n",
       "      <th>x3</th>\n",
       "      <th>x4</th>\n",
       "      <th>x5</th>\n",
       "    </tr>\n",
       "  </thead>\n",
       "  <tbody>\n",
       "    <tr>\n",
       "      <th>71</th>\n",
       "      <td>-0.129501</td>\n",
       "      <td>1.0</td>\n",
       "      <td>-0.062698</td>\n",
       "      <td>0.003931</td>\n",
       "      <td>-0.000246</td>\n",
       "      <td>0.000015</td>\n",
       "      <td>-9.688454e-07</td>\n",
       "    </tr>\n",
       "    <tr>\n",
       "      <th>87</th>\n",
       "      <td>1.690587</td>\n",
       "      <td>1.0</td>\n",
       "      <td>-0.812119</td>\n",
       "      <td>0.659537</td>\n",
       "      <td>-0.535623</td>\n",
       "      <td>0.434989</td>\n",
       "      <td>-3.532631e-01</td>\n",
       "    </tr>\n",
       "    <tr>\n",
       "      <th>58</th>\n",
       "      <td>-0.273393</td>\n",
       "      <td>1.0</td>\n",
       "      <td>-0.067378</td>\n",
       "      <td>0.004540</td>\n",
       "      <td>-0.000306</td>\n",
       "      <td>0.000021</td>\n",
       "      <td>-1.388690e-06</td>\n",
       "    </tr>\n",
       "    <tr>\n",
       "      <th>57</th>\n",
       "      <td>0.729845</td>\n",
       "      <td>1.0</td>\n",
       "      <td>-0.493417</td>\n",
       "      <td>0.243460</td>\n",
       "      <td>-0.120127</td>\n",
       "      <td>0.059273</td>\n",
       "      <td>-2.924621e-02</td>\n",
       "    </tr>\n",
       "    <tr>\n",
       "      <th>177</th>\n",
       "      <td>-0.178929</td>\n",
       "      <td>1.0</td>\n",
       "      <td>0.856163</td>\n",
       "      <td>0.733014</td>\n",
       "      <td>0.627579</td>\n",
       "      <td>0.537310</td>\n",
       "      <td>4.600248e-01</td>\n",
       "    </tr>\n",
       "  </tbody>\n",
       "</table>\n",
       "</div>"
      ],
      "text/plain": [
       "            y   x0         x        x2        x3        x4            x5\n",
       "71  -0.129501  1.0 -0.062698  0.003931 -0.000246  0.000015 -9.688454e-07\n",
       "87   1.690587  1.0 -0.812119  0.659537 -0.535623  0.434989 -3.532631e-01\n",
       "58  -0.273393  1.0 -0.067378  0.004540 -0.000306  0.000021 -1.388690e-06\n",
       "57   0.729845  1.0 -0.493417  0.243460 -0.120127  0.059273 -2.924621e-02\n",
       "177 -0.178929  1.0  0.856163  0.733014  0.627579  0.537310  4.600248e-01"
      ]
     },
     "execution_count": 2,
     "metadata": {},
     "output_type": "execute_result"
    }
   ],
   "source": [
    "#create new data for multivariate gradient descent\n",
    "data['x0']=data['x']**0\n",
    "data['x2']=data['x']**2\n",
    "data['x3']=data['x']**3\n",
    "data['x4']=data['x']**4\n",
    "data['x5']=data['x']**5\n",
    "\n",
    "#change columns for better access\n",
    "newY = data.pop('y')\n",
    "x0 = data.pop('x0')\n",
    "\n",
    "data.insert(0, 'y', newY)\n",
    "data.insert(1, 'x0', x0)\n",
    "\n",
    "#insert data in arrays\n",
    "y = data.iloc[:, 0].values\n",
    "X = data.iloc[:, 1:7].values\n",
    "\n",
    "mainX = data.iloc[:,2].values\n",
    "\n",
    "data.head(5)"
   ]
  },
  {
   "cell_type": "code",
   "execution_count": 3,
   "id": "b1e302c7",
   "metadata": {},
   "outputs": [],
   "source": [
    "def cost_function_MSE(X, Y, theta):\n",
    " m = len(Y)\n",
    " J = np.sum((X.dot(theta)-Y) ** 2)/(2 * m)\n",
    " return np.sqrt(J)"
   ]
  },
  {
   "cell_type": "code",
   "execution_count": 4,
   "id": "76577104",
   "metadata": {},
   "outputs": [],
   "source": [
    "def gradient_descent(X, Y , Theta , alpha , iterations , xTest , yTest  ):\n",
    "    cost_history = [0] * iterations\n",
    "    test_cost_history = [0] * iterations\n",
    "    step_history = [0] * iterations\n",
    " \n",
    "    for iteration in range(iterations):\n",
    " # Hypothesis Values\n",
    "        h = X.dot(Theta)\n",
    "    \n",
    " # Difference b/w Hypothesis and Actual Y\n",
    "        loss = h - Y\n",
    "        \n",
    "    \n",
    " # Gradient Calculation\n",
    "        mse_gradient = X.T.dot(loss) / m\n",
    "    \n",
    "        rmse_gradient = np.sqrt((loss.dot(loss))/2*m)\n",
    "        \n",
    "        gradient = mse_gradient / rmse_gradient\n",
    "    \n",
    "     \n",
    "    \n",
    "    \n",
    "#  Changing Values of B using Gradient\n",
    "        Theta = Theta - alpha * gradient\n",
    "        alpha = alpha - 0.000001\n",
    "    \n",
    " # New Cost Value\n",
    "        cost = cost_function_MSE(X, Y, Theta)\n",
    "        cost_history[iteration] = cost\n",
    "        test_cost_history[iteration] = cost_function_MSE(xTest, yTest, Theta)\n",
    "        step_history[iteration] = alpha * gradient\n",
    " \n",
    "    return Theta, cost_history , test_cost_history , step_history"
   ]
  },
  {
   "cell_type": "code",
   "execution_count": 5,
   "id": "b08cc33d",
   "metadata": {},
   "outputs": [],
   "source": [
    "#60% of data for train\n",
    "#40% of data for test\n",
    "m = 180\n",
    "\n",
    "X_train = X[:m]\n",
    "mainX_train = X[:m , 1]\n",
    "y_train = y[:m]\n",
    "\n",
    "X_test = X[m: , 1]\n",
    "xTest = X[m:]\n",
    "y_test = y[m:]"
   ]
  },
  {
   "cell_type": "code",
   "execution_count": 6,
   "id": "4e5f929b",
   "metadata": {},
   "outputs": [
    {
     "name": "stdout",
     "output_type": "stream",
     "text": [
      "[ 0.11243708  0.74560168  0.67905565 -2.21262868  0.3515797  -0.562514  ]\n"
     ]
    }
   ],
   "source": [
    "# Initial Coefficients\n",
    "Theta = np.zeros(X_train.shape[1])\n",
    "\n",
    "alpha = 0.9\n",
    "iter_ = 10000\n",
    "\n",
    "newTheta, cost_history , test_cost_history , step_history = gradient_descent(X_train, y_train, Theta, alpha, iter_ , xTest , y_test )\n",
    "\n",
    "print(newTheta)"
   ]
  },
  {
   "cell_type": "code",
   "execution_count": 7,
   "id": "88c57b84",
   "metadata": {},
   "outputs": [
    {
     "data": {
      "image/png": "[encoded data removed]",
      "text/plain": [
       "<Figure size 432x288 with 1 Axes>"
      ]
     },
     "metadata": {
      "needs_background": "light"
     },
     "output_type": "display_data"
    }
   ],
   "source": [
    "# plot\n",
    "sorted_X_train = np.sort(mainX_train)\n",
    "y_predict = [None] * len(sorted_X_train)\n",
    "\n",
    "for i in range(len(sorted_X_train)):\n",
    "    y_predict[i] = newTheta[0]+ newTheta[1]*sorted_X_train[i] + newTheta[2]*(sorted_X_train[i]**2) + newTheta[3]*(sorted_X_train[i]**3) + newTheta[4]*(sorted_X_train[i]**4) + newTheta[5]*(sorted_X_train[i]**5)\n",
    "\n",
    "\n",
    "plt.plot(sorted_X_train,y_predict)\n",
    "plt.plot(mainX_train,y_train , linestyle='', marker='o')\n",
    "\n",
    "plt.show()"
   ]
  },
  {
   "cell_type": "code",
   "execution_count": 8,
   "id": "43bf1515",
   "metadata": {},
   "outputs": [],
   "source": [
    "#test\n",
    "def pred(testData , Thetas):\n",
    "    y_predict = [None] * len(testData)\n",
    "    for i in range(len(testData)):\n",
    "        y_predict[i] = Thetas[0]+ Thetas[1]*testData[i] + Thetas[2]*(testData[i]**2) + Thetas[3]*(testData[i]**3) + Thetas[4]*(testData[i]**4) + Thetas[5]*(testData[i]**5)\n",
    "    \n",
    "    return (y_predict)"
   ]
  },
  {
   "cell_type": "code",
   "execution_count": 9,
   "id": "a6ea55e0",
   "metadata": {},
   "outputs": [],
   "source": [
    "def r2(y_,y):\n",
    "    sst = np.sum((y-y.mean())**2)\n",
    "    ssr = np.sum((y_-y)**2)\n",
    "    r2 = 1-(ssr/sst)\n",
    "    return(r2)"
   ]
  },
  {
   "cell_type": "code",
   "execution_count": 10,
   "id": "9618bcf7",
   "metadata": {},
   "outputs": [],
   "source": [
    "y_ = pred(X_test,newTheta)"
   ]
  },
  {
   "cell_type": "code",
   "execution_count": 11,
   "id": "20daea9b",
   "metadata": {},
   "outputs": [
    {
     "data": {
      "text/plain": [
       "0.5906661637267598"
      ]
     },
     "execution_count": 11,
     "metadata": {},
     "output_type": "execute_result"
    }
   ],
   "source": [
    "r2(y_,y_test)"
   ]
  },
  {
   "cell_type": "code",
   "execution_count": 12,
   "id": "4295a810",
   "metadata": {},
   "outputs": [
    {
     "data": {
      "image/png": "[encoded data removed]",
      "text/plain": [
       "<Figure size 432x288 with 1 Axes>"
      ]
     },
     "metadata": {
      "needs_background": "light"
     },
     "output_type": "display_data"
    }
   ],
   "source": [
    "# Plot the convergence graph for learning cost\n",
    "plt.plot(np.arange(iter_), cost_history)\n",
    "plt.xlabel('Number of iterations')\n",
    "plt.ylabel('Learning Cost')\n",
    "plt.show()"
   ]
  },
  {
   "cell_type": "code",
   "execution_count": 13,
   "id": "784e6ff0",
   "metadata": {},
   "outputs": [
    {
     "data": {
      "image/png": "[encoded data removed]",
      "text/plain": [
       "<Figure size 432x288 with 1 Axes>"
      ]
     },
     "metadata": {
      "needs_background": "light"
     },
     "output_type": "display_data"
    }
   ],
   "source": [
    "# Plot the convergence graph for testing cost\n",
    "plt.plot(np.arange(iter_), test_cost_history)\n",
    "plt.xlabel('Number of iterations')\n",
    "plt.ylabel('Testing Cost')\n",
    "plt.show()"
   ]
  },
  {
   "cell_type": "code",
   "execution_count": 14,
   "id": "9139ed6c",
   "metadata": {},
   "outputs": [
    {
     "data": {
      "image/png": "[encoded data removed]",
      "text/plain": [
       "<Figure size 432x288 with 1 Axes>"
      ]
     },
     "metadata": {
      "needs_background": "light"
     },
     "output_type": "display_data"
    }
   ],
   "source": [
    "# Plot the convergence graph for thetas Step\n",
    "plt.plot(np.arange(iter_), step_history)\n",
    "plt.xlabel('Number of iterations')\n",
    "plt.ylabel('Steps')\n",
    "plt.show()"
   ]
  }
 ],
 "metadata": {
  "kernelspec": {
   "display_name": "Python 3",
   "language": "python",
   "name": "python3"
  },
  "language_info": {
   "codemirror_mode": {
    "name": "ipython",
    "version": 3
   },
   "file_extension": ".py",
   "mimetype": "text/x-python",
   "name": "python",
   "nbconvert_exporter": "python",
   "pygments_lexer": "ipython3",
   "version": "3.8.8"
  }
 },
 "nbformat": 4,
 "nbformat_minor": 5
}
