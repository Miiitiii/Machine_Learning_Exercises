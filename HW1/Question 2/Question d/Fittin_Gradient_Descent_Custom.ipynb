{
 "cells": [
  {
   "cell_type": "code",
   "execution_count": 1,
   "id": "516541a8",
   "metadata": {},
   "outputs": [
    {
     "data": {
      "text/html": [
       "<div>\n",
       "<style scoped>\n",
       "    .dataframe tbody tr th:only-of-type {\n",
       "        vertical-align: middle;\n",
       "    }\n",
       "\n",
       "    .dataframe tbody tr th {\n",
       "        vertical-align: top;\n",
       "    }\n",
       "\n",
       "    .dataframe thead th {\n",
       "        text-align: right;\n",
       "    }\n",
       "</style>\n",
       "<table border=\"1\" class=\"dataframe\">\n",
       "  <thead>\n",
       "    <tr style=\"text-align: right;\">\n",
       "      <th></th>\n",
       "      <th>Movie</th>\n",
       "      <th>Year</th>\n",
       "      <th>Ratings</th>\n",
       "      <th>Genre</th>\n",
       "      <th>Gross</th>\n",
       "      <th>Budget</th>\n",
       "      <th>Screens</th>\n",
       "      <th>Sequel</th>\n",
       "      <th>Sentiment</th>\n",
       "      <th>Views</th>\n",
       "      <th>Likes</th>\n",
       "      <th>Dislikes</th>\n",
       "      <th>Comments</th>\n",
       "      <th>Aggregate Followers</th>\n",
       "    </tr>\n",
       "  </thead>\n",
       "  <tbody>\n",
       "    <tr>\n",
       "      <th>212</th>\n",
       "      <td>101</td>\n",
       "      <td>2015</td>\n",
       "      <td>8.2</td>\n",
       "      <td>8</td>\n",
       "      <td>6740000</td>\n",
       "      <td>8000000.0</td>\n",
       "      <td>34.0</td>\n",
       "      <td>1</td>\n",
       "      <td>15</td>\n",
       "      <td>4032265</td>\n",
       "      <td>18398</td>\n",
       "      <td>302</td>\n",
       "      <td>1298</td>\n",
       "      <td>2.208000e+03</td>\n",
       "    </tr>\n",
       "    <tr>\n",
       "      <th>230</th>\n",
       "      <td>173</td>\n",
       "      <td>2015</td>\n",
       "      <td>4.4</td>\n",
       "      <td>15</td>\n",
       "      <td>22600000</td>\n",
       "      <td>100000.0</td>\n",
       "      <td>2720.0</td>\n",
       "      <td>1</td>\n",
       "      <td>-5</td>\n",
       "      <td>659772</td>\n",
       "      <td>2841</td>\n",
       "      <td>431</td>\n",
       "      <td>606</td>\n",
       "      <td>2.538489e+06</td>\n",
       "    </tr>\n",
       "    <tr>\n",
       "      <th>35</th>\n",
       "      <td>46</td>\n",
       "      <td>2014</td>\n",
       "      <td>5.8</td>\n",
       "      <td>2</td>\n",
       "      <td>38900000</td>\n",
       "      <td>13000000.0</td>\n",
       "      <td>3230.0</td>\n",
       "      <td>1</td>\n",
       "      <td>0</td>\n",
       "      <td>1488038</td>\n",
       "      <td>2571</td>\n",
       "      <td>553</td>\n",
       "      <td>643</td>\n",
       "      <td>8.858600e+04</td>\n",
       "    </tr>\n",
       "    <tr>\n",
       "      <th>165</th>\n",
       "      <td>55</td>\n",
       "      <td>2015</td>\n",
       "      <td>7.4</td>\n",
       "      <td>1</td>\n",
       "      <td>350000000</td>\n",
       "      <td>190000000.0</td>\n",
       "      <td>4004.0</td>\n",
       "      <td>7</td>\n",
       "      <td>-17</td>\n",
       "      <td>59056</td>\n",
       "      <td>330</td>\n",
       "      <td>8</td>\n",
       "      <td>39</td>\n",
       "      <td>1.189000e+07</td>\n",
       "    </tr>\n",
       "    <tr>\n",
       "      <th>12</th>\n",
       "      <td>15</td>\n",
       "      <td>2014</td>\n",
       "      <td>5.4</td>\n",
       "      <td>15</td>\n",
       "      <td>84300000</td>\n",
       "      <td>6500000.0</td>\n",
       "      <td>3185.0</td>\n",
       "      <td>1</td>\n",
       "      <td>0</td>\n",
       "      <td>19032902</td>\n",
       "      <td>38810</td>\n",
       "      <td>4382</td>\n",
       "      <td>4392</td>\n",
       "      <td>1.942010e+07</td>\n",
       "    </tr>\n",
       "  </tbody>\n",
       "</table>\n",
       "</div>"
      ],
      "text/plain": [
       "     Movie  Year  Ratings  Genre      Gross       Budget  Screens  Sequel  \\\n",
       "212    101  2015      8.2      8    6740000    8000000.0     34.0       1   \n",
       "230    173  2015      4.4     15   22600000     100000.0   2720.0       1   \n",
       "35      46  2014      5.8      2   38900000   13000000.0   3230.0       1   \n",
       "165     55  2015      7.4      1  350000000  190000000.0   4004.0       7   \n",
       "12      15  2014      5.4     15   84300000    6500000.0   3185.0       1   \n",
       "\n",
       "     Sentiment     Views  Likes  Dislikes  Comments  Aggregate Followers  \n",
       "212         15   4032265  18398       302      1298         2.208000e+03  \n",
       "230         -5    659772   2841       431       606         2.538489e+06  \n",
       "35           0   1488038   2571       553       643         8.858600e+04  \n",
       "165        -17     59056    330         8        39         1.189000e+07  \n",
       "12           0  19032902  38810      4382      4392         1.942010e+07  "
      ]
     },
     "execution_count": 1,
     "metadata": {},
     "output_type": "execute_result"
    }
   ],
   "source": [
    "import numpy as np\n",
    "from matplotlib import pyplot as plt\n",
    "import pandas as pd\n",
    "\n",
    "address = 'D:/HomeWork/Machine Learning/ML-HW01/ML-HW01/dataset2/saved_file.xlsx'\n",
    "\n",
    "df = pd.read_excel(address)\n",
    "data = df.sample(frac=1)\n",
    "data.head(5)"
   ]
  },
  {
   "cell_type": "code",
   "execution_count": 2,
   "id": "bdde806e",
   "metadata": {},
   "outputs": [],
   "source": [
    "# extract Y and drop from data frame\n",
    "y = data.iloc[:, 2].values\n",
    "data = data.drop(['Ratings'] , axis=1)"
   ]
  },
  {
   "cell_type": "code",
   "execution_count": 3,
   "id": "c7ef17a8",
   "metadata": {},
   "outputs": [],
   "source": [
    "#Prepare the data\n",
    "# #convert labels to numbers\n",
    "newMovie = pd.Series(data['Movie']).astype('category').cat.codes.values\n",
    "data['Movie'] = newMovie\n",
    "\n",
    "#with P-value decide to drop this feature\n",
    "data = data.drop(['Comments'] , axis=1)\n",
    "\n",
    "#GET X\n",
    "X = data.iloc[:, :].values\n",
    "\n",
    "#Normalise X so the values lie between -1 and 1.\n",
    "mu = X.mean(0) \n",
    "sigma = X.std(0) # standard deviation: max(x)-min(x)\n",
    "xn = (X - mu) / sigma\n",
    "m,n = X.shape\n",
    "\n",
    "#Add column of ones\n",
    "X = np.hstack((np.ones((m, 1)), xn))"
   ]
  },
  {
   "cell_type": "code",
   "execution_count": 4,
   "id": "148c1e77",
   "metadata": {},
   "outputs": [],
   "source": [
    "def cost_function_MSE(X, Y, theta):\n",
    "    m = len(Y)\n",
    "    J = np.sum((X.dot(theta)-Y) ** 2)/(2 * m)\n",
    "    return J"
   ]
  },
  {
   "cell_type": "code",
   "execution_count": 5,
   "id": "10f36401",
   "metadata": {},
   "outputs": [],
   "source": [
    "def gradient_descent(X, Y , Theta , alpha , iterations , xTest , yTest ):\n",
    "    cost_history = [0] * iterations\n",
    "    test_cost_history = [0] * iterations\n",
    "    step_history = [0] * iterations\n",
    "    m = len(Y)\n",
    " \n",
    "    for iteration in range(iterations):\n",
    " # Hypothesis Values\n",
    "        h = X.dot(Theta)\n",
    "    \n",
    " # Difference b/w Hypothesis and Actual Y\n",
    "        loss = h - Y\n",
    "    \n",
    " # Gradient Calculation\n",
    "        gradient = X.T.dot(loss) / m\n",
    "    \n",
    " # Changing Values of B using Gradient\n",
    "        Theta = Theta - alpha * gradient\n",
    "        step_history[iteration] = alpha * gradient\n",
    "        alpha = alpha - 0.00001\n",
    "    \n",
    " # New Cost Value\n",
    "        cost = cost_function_MSE(X, Y, Theta)\n",
    "        cost_history[iteration] = cost\n",
    "        test_cost_history[iteration] = cost_function_MSE(xTest, yTest, Theta)\n",
    "        step_history[iteration] = alpha * gradient\n",
    "        \n",
    " \n",
    "    return Theta, cost_history , test_cost_history , step_history"
   ]
  },
  {
   "cell_type": "code",
   "execution_count": 6,
   "id": "df17ab82",
   "metadata": {},
   "outputs": [],
   "source": [
    "#60% of data for train 139\n",
    "#40% of data for test 92\n",
    "#all data is 231\n",
    "m = 139\n",
    "\n",
    "X_train = X[:m]\n",
    "y_train = y[:m]\n",
    "\n",
    "X_test = X[m:]\n",
    "y_test = y[m:]"
   ]
  },
  {
   "cell_type": "code",
   "execution_count": 7,
   "id": "1fd3c27a",
   "metadata": {},
   "outputs": [
    {
     "name": "stdout",
     "output_type": "stream",
     "text": [
      "[ 6.32808902  0.00825728  0.03270587  0.01460846  0.25876666  0.33538014\n",
      " -0.23918715 -0.09735368  0.13078766  0.45956258  0.14294492 -0.82839531\n",
      " -0.02783386]\n"
     ]
    }
   ],
   "source": [
    "# Initial Coefficients\n",
    "Theta = np.zeros(X_train.shape[1])\n",
    "\n",
    "alpha = 0.02\n",
    "iter_ = 1000\n",
    "\n",
    "newTheta, cost_history , test_cost_history , step_history = gradient_descent(X_train, y_train, Theta, alpha, iter_ , X_test ,y_test)\n",
    "\n",
    "print(newTheta)"
   ]
  },
  {
   "cell_type": "code",
   "execution_count": 8,
   "id": "b2fdecc9",
   "metadata": {},
   "outputs": [],
   "source": [
    "y_pred = np.matmul(X_train, newTheta)"
   ]
  },
  {
   "cell_type": "code",
   "execution_count": 9,
   "id": "83fe3b8a",
   "metadata": {},
   "outputs": [
    {
     "data": {
      "image/png": "[encoded data removed]",
      "text/plain": [
       "<Figure size 432x288 with 1 Axes>"
      ]
     },
     "metadata": {
      "needs_background": "light"
     },
     "output_type": "display_data"
    }
   ],
   "source": [
    "# Plot the convergence graph for learning cost\n",
    "plt.plot(np.arange(iter_), cost_history)\n",
    "plt.xlabel('Number of iterations')\n",
    "plt.ylabel('Learning Cost')\n",
    "plt.show()"
   ]
  },
  {
   "cell_type": "code",
   "execution_count": 10,
   "id": "6ce4aa73",
   "metadata": {},
   "outputs": [
    {
     "data": {
      "image/png": "[encoded data removed]",
      "text/plain": [
       "<Figure size 432x288 with 1 Axes>"
      ]
     },
     "metadata": {
      "needs_background": "light"
     },
     "output_type": "display_data"
    }
   ],
   "source": [
    "# Plot the convergence graph for testing cost\n",
    "plt.plot(np.arange(iter_), test_cost_history)\n",
    "plt.xlabel('Number of iterations')\n",
    "plt.ylabel('Testing Cost')\n",
    "plt.show()"
   ]
  },
  {
   "cell_type": "code",
   "execution_count": 11,
   "id": "909b18c8",
   "metadata": {},
   "outputs": [
    {
     "data": {
      "image/png": "[encoded data removed]",
      "text/plain": [
       "<Figure size 432x288 with 1 Axes>"
      ]
     },
     "metadata": {
      "needs_background": "light"
     },
     "output_type": "display_data"
    }
   ],
   "source": [
    "# Plot the convergence graph for thetas Step\n",
    "plt.plot(np.arange(iter_), step_history)\n",
    "plt.xlabel('Number of iterations')\n",
    "plt.ylabel('Steps')\n",
    "plt.show()"
   ]
  },
  {
   "cell_type": "code",
   "execution_count": 12,
   "id": "93396738",
   "metadata": {},
   "outputs": [],
   "source": [
    "def r2(y_,y):\n",
    "    sst = np.sum((y-y.mean())**2)\n",
    "    ssr = np.sum((y_-y)**2)\n",
    "    r2 = 1-(ssr/sst)\n",
    "    return(abs(r2))"
   ]
  },
  {
   "cell_type": "code",
   "execution_count": 13,
   "id": "2803722c",
   "metadata": {},
   "outputs": [
    {
     "data": {
      "text/plain": [
       "0.3689924559597474"
      ]
     },
     "execution_count": 13,
     "metadata": {},
     "output_type": "execute_result"
    }
   ],
   "source": [
    "r2(y_pred , y_train)"
   ]
  },
  {
   "cell_type": "code",
   "execution_count": 14,
   "id": "5259d937",
   "metadata": {},
   "outputs": [
    {
     "data": {
      "text/plain": [
       "0.3216466325842033"
      ]
     },
     "execution_count": 14,
     "metadata": {},
     "output_type": "execute_result"
    }
   ],
   "source": [
    "cost_function_MSE(X_train , y_train , newTheta)"
   ]
  },
  {
   "cell_type": "code",
   "execution_count": null,
   "id": "4e99e80a",
   "metadata": {},
   "outputs": [],
   "source": []
  }
 ],
 "metadata": {
  "kernelspec": {
   "display_name": "Python 3",
   "language": "python",
   "name": "python3"
  },
  "language_info": {
   "codemirror_mode": {
    "name": "ipython",
    "version": 3
   },
   "file_extension": ".py",
   "mimetype": "text/x-python",
   "name": "python",
   "nbconvert_exporter": "python",
   "pygments_lexer": "ipython3",
   "version": "3.8.8"
  }
 },
 "nbformat": 4,
 "nbformat_minor": 5
}
