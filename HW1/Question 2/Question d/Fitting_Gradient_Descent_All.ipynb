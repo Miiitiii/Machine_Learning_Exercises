{
 "cells": [
  {
   "cell_type": "code",
   "execution_count": 1,
   "id": "516541a8",
   "metadata": {},
   "outputs": [
    {
     "data": {
      "text/html": [
       "<div>\n",
       "<style scoped>\n",
       "    .dataframe tbody tr th:only-of-type {\n",
       "        vertical-align: middle;\n",
       "    }\n",
       "\n",
       "    .dataframe tbody tr th {\n",
       "        vertical-align: top;\n",
       "    }\n",
       "\n",
       "    .dataframe thead th {\n",
       "        text-align: right;\n",
       "    }\n",
       "</style>\n",
       "<table border=\"1\" class=\"dataframe\">\n",
       "  <thead>\n",
       "    <tr style=\"text-align: right;\">\n",
       "      <th></th>\n",
       "      <th>Movie</th>\n",
       "      <th>Year</th>\n",
       "      <th>Ratings</th>\n",
       "      <th>Genre</th>\n",
       "      <th>Gross</th>\n",
       "      <th>Budget</th>\n",
       "      <th>Screens</th>\n",
       "      <th>Sequel</th>\n",
       "      <th>Sentiment</th>\n",
       "      <th>Views</th>\n",
       "      <th>Likes</th>\n",
       "      <th>Dislikes</th>\n",
       "      <th>Comments</th>\n",
       "      <th>Aggregate Followers</th>\n",
       "    </tr>\n",
       "  </thead>\n",
       "  <tbody>\n",
       "    <tr>\n",
       "      <th>195</th>\n",
       "      <td>165</td>\n",
       "      <td>2015</td>\n",
       "      <td>4.6</td>\n",
       "      <td>6</td>\n",
       "      <td>35400000</td>\n",
       "      <td>4000000.0</td>\n",
       "      <td>2602.0</td>\n",
       "      <td>1</td>\n",
       "      <td>16</td>\n",
       "      <td>5588384</td>\n",
       "      <td>15144</td>\n",
       "      <td>913</td>\n",
       "      <td>1499</td>\n",
       "      <td>4599000.0</td>\n",
       "    </tr>\n",
       "    <tr>\n",
       "      <th>146</th>\n",
       "      <td>207</td>\n",
       "      <td>2014</td>\n",
       "      <td>7.2</td>\n",
       "      <td>3</td>\n",
       "      <td>4190000</td>\n",
       "      <td>22500000.0</td>\n",
       "      <td>320.0</td>\n",
       "      <td>1</td>\n",
       "      <td>7</td>\n",
       "      <td>3281842</td>\n",
       "      <td>4968</td>\n",
       "      <td>445</td>\n",
       "      <td>2099</td>\n",
       "      <td>1899400.0</td>\n",
       "    </tr>\n",
       "    <tr>\n",
       "      <th>107</th>\n",
       "      <td>155</td>\n",
       "      <td>2014</td>\n",
       "      <td>5.9</td>\n",
       "      <td>1</td>\n",
       "      <td>191000000</td>\n",
       "      <td>125000000.0</td>\n",
       "      <td>3845.0</td>\n",
       "      <td>1</td>\n",
       "      <td>0</td>\n",
       "      <td>7908038</td>\n",
       "      <td>27312</td>\n",
       "      <td>3439</td>\n",
       "      <td>8533</td>\n",
       "      <td>1260000.0</td>\n",
       "    </tr>\n",
       "    <tr>\n",
       "      <th>165</th>\n",
       "      <td>55</td>\n",
       "      <td>2015</td>\n",
       "      <td>7.4</td>\n",
       "      <td>1</td>\n",
       "      <td>350000000</td>\n",
       "      <td>190000000.0</td>\n",
       "      <td>4004.0</td>\n",
       "      <td>7</td>\n",
       "      <td>-17</td>\n",
       "      <td>59056</td>\n",
       "      <td>330</td>\n",
       "      <td>8</td>\n",
       "      <td>39</td>\n",
       "      <td>11890000.0</td>\n",
       "    </tr>\n",
       "    <tr>\n",
       "      <th>204</th>\n",
       "      <td>129</td>\n",
       "      <td>2015</td>\n",
       "      <td>6.4</td>\n",
       "      <td>8</td>\n",
       "      <td>22300000</td>\n",
       "      <td>12000000.0</td>\n",
       "      <td>2893.0</td>\n",
       "      <td>1</td>\n",
       "      <td>7</td>\n",
       "      <td>6646785</td>\n",
       "      <td>16041</td>\n",
       "      <td>955</td>\n",
       "      <td>2787</td>\n",
       "      <td>253499.0</td>\n",
       "    </tr>\n",
       "  </tbody>\n",
       "</table>\n",
       "</div>"
      ],
      "text/plain": [
       "     Movie  Year  Ratings  Genre      Gross       Budget  Screens  Sequel  \\\n",
       "195    165  2015      4.6      6   35400000    4000000.0   2602.0       1   \n",
       "146    207  2014      7.2      3    4190000   22500000.0    320.0       1   \n",
       "107    155  2014      5.9      1  191000000  125000000.0   3845.0       1   \n",
       "165     55  2015      7.4      1  350000000  190000000.0   4004.0       7   \n",
       "204    129  2015      6.4      8   22300000   12000000.0   2893.0       1   \n",
       "\n",
       "     Sentiment    Views  Likes  Dislikes  Comments  Aggregate Followers  \n",
       "195         16  5588384  15144       913      1499            4599000.0  \n",
       "146          7  3281842   4968       445      2099            1899400.0  \n",
       "107          0  7908038  27312      3439      8533            1260000.0  \n",
       "165        -17    59056    330         8        39           11890000.0  \n",
       "204          7  6646785  16041       955      2787             253499.0  "
      ]
     },
     "execution_count": 1,
     "metadata": {},
     "output_type": "execute_result"
    }
   ],
   "source": [
    "import numpy as np\n",
    "from matplotlib import pyplot as plt\n",
    "import pandas as pd\n",
    "\n",
    "address = 'D:/HomeWork/Machine Learning/ML-HW01/ML-HW01/dataset2/saved_file.xlsx'\n",
    "\n",
    "df = pd.read_excel(address)\n",
    "data = df.sample(frac=1)\n",
    "data.head(5)"
   ]
  },
  {
   "cell_type": "code",
   "execution_count": 2,
   "id": "bdde806e",
   "metadata": {},
   "outputs": [],
   "source": [
    "# extract Y and drop from data frame\n",
    "y = data.iloc[:, 2].values\n",
    "data = data.drop(['Ratings'] , axis=1)"
   ]
  },
  {
   "cell_type": "code",
   "execution_count": 3,
   "id": "2e5153a9",
   "metadata": {},
   "outputs": [],
   "source": [
    "#Prepare the data\n",
    "# #convert labels to numbers\n",
    "newMovie = pd.Series(data['Movie']).astype('category').cat.codes.values\n",
    "data['Movie'] = newMovie\n",
    "\n",
    "#GET X\n",
    "X = data.iloc[:, :].values\n",
    "\n",
    "#Normalise X so the values lie between -1 and 1.\n",
    "mu = X.mean(0) \n",
    "sigma = X.std(0) # standard deviation: max(x)-min(x)\n",
    "xn = (X - mu) / sigma\n",
    "m,n = X.shape\n",
    "\n",
    "#Add column of ones\n",
    "X = np.hstack((np.ones((m, 1)), xn))"
   ]
  },
  {
   "cell_type": "code",
   "execution_count": 4,
   "id": "148c1e77",
   "metadata": {},
   "outputs": [],
   "source": [
    "def cost_function_MSE(X, Y, theta):\n",
    "    m = len(Y)\n",
    "    J = np.sum((X.dot(theta)-Y) ** 2)/(2 * m)\n",
    "    return J"
   ]
  },
  {
   "cell_type": "code",
   "execution_count": 5,
   "id": "10f36401",
   "metadata": {},
   "outputs": [],
   "source": [
    "def gradient_descent(X, Y , Theta , alpha , iterations , xTest , yTest ):\n",
    "    cost_history = [0] * iterations\n",
    "    test_cost_history = [0] * iterations\n",
    "    step_history = [0] * iterations\n",
    "    m = len(Y)\n",
    " \n",
    "    for iteration in range(iterations):\n",
    " # Hypothesis Values\n",
    "        h = X.dot(Theta)\n",
    "    \n",
    " # Difference b/w Hypothesis and Actual Y\n",
    "        loss = h - Y\n",
    "    \n",
    " # Gradient Calculation\n",
    "        gradient = X.T.dot(loss) / m\n",
    "    \n",
    " # Changing Values of B using Gradient\n",
    "        Theta = Theta - alpha * gradient\n",
    "        step_history[iteration] = alpha * gradient\n",
    "        alpha = alpha - 0.00001\n",
    "    \n",
    " # New Cost Value\n",
    "        cost = cost_function_MSE(X, Y, Theta)\n",
    "        cost_history[iteration] = cost\n",
    "        test_cost_history[iteration] = cost_function_MSE(xTest, yTest, Theta)\n",
    "        step_history[iteration] = alpha * gradient\n",
    "        \n",
    " \n",
    "    return Theta, cost_history , test_cost_history , step_history"
   ]
  },
  {
   "cell_type": "code",
   "execution_count": 6,
   "id": "df17ab82",
   "metadata": {},
   "outputs": [],
   "source": [
    "#60% of data for train 139\n",
    "#40% of data for test 92\n",
    "#all data is 231\n",
    "m = 139\n",
    "\n",
    "X_train = X[:m]\n",
    "y_train = y[:m]\n",
    "\n",
    "X_test = X[m:]\n",
    "y_test = y[m:]"
   ]
  },
  {
   "cell_type": "code",
   "execution_count": 7,
   "id": "1fd3c27a",
   "metadata": {},
   "outputs": [
    {
     "name": "stdout",
     "output_type": "stream",
     "text": [
      "[ 6.43554668  0.02283882  0.05841412 -0.08067762  0.297564    0.25878296\n",
      " -0.22536715 -0.16271914  0.12442155  0.22778195  0.09725768 -0.4247447\n",
      " -0.01274074 -0.04471489]\n"
     ]
    }
   ],
   "source": [
    "# Initial Coefficients\n",
    "Theta = np.zeros(X_train.shape[1])\n",
    "\n",
    "alpha = 0.02\n",
    "iter_ = 1000\n",
    "\n",
    "newTheta, cost_history , test_cost_history , step_history = gradient_descent(X_train, y_train, Theta, alpha, iter_ , X_test ,y_test)\n",
    "\n",
    "print(newTheta)"
   ]
  },
  {
   "cell_type": "code",
   "execution_count": 8,
   "id": "b2fdecc9",
   "metadata": {},
   "outputs": [
    {
     "name": "stdout",
     "output_type": "stream",
     "text": [
      "[6.45414139 6.61175401 6.34439371 6.55460171 6.2718747  6.14730953\n",
      " 6.57359265 6.65746734 6.54194745 7.09056731 6.5585246  6.46970339\n",
      " 6.97246929 6.44259295 5.89847557 6.87783241 6.34528821 6.44383944\n",
      " 5.90220278 6.09569462 6.02516018 5.77930967 6.72816461 6.64766957\n",
      " 5.95584637 6.01590403 8.3905626  6.06130097 6.28772997 6.06849464\n",
      " 6.9212243  6.57385489 6.2170527  6.32607946 5.71326523 6.19101588\n",
      " 6.64712283 7.73211072 6.74588869 6.22527474 6.76773895 6.45513838\n",
      " 7.12800994 6.76498421 6.71595835 6.04683326 6.25916743 6.16025856\n",
      " 5.99792913 6.99459725 6.35710046 6.35503036 6.51203071 6.32141946\n",
      " 6.14566647 6.80109803 6.5473282  7.32623374 5.88857818 6.77531198\n",
      " 6.33041856 6.31023212 5.72439749 6.32220575 5.75270685 6.06070555\n",
      " 6.49897552 6.51986282 7.72859791 6.37497091 6.75345352 6.54007457\n",
      " 6.12718258 7.18514682 6.53832366 5.89951738 6.46485647 6.6210864\n",
      " 6.86512421 7.24533606 6.03103752 6.48261981 6.25289861 7.32687273\n",
      " 5.41383698 7.45928681 6.50039088 6.72199374 6.6892137  7.6668799\n",
      " 6.99037784 6.30771517 6.55897095 6.26485355 6.52253613 8.96541448\n",
      " 6.74451159 6.30712998 6.36429273 6.52222467 6.82694423 6.74812347\n",
      " 6.47701743 6.27734896 6.74358804 6.13276815 6.02157956 6.36428423\n",
      " 7.3908792  6.14113355 4.75118422 7.00226306 6.80645841 6.32009018\n",
      " 6.5195971  6.38393135 7.01492732 6.51118963 6.53075791 5.82360115\n",
      " 6.12782302 6.24836963 6.47818644 5.31547529 5.59655125 6.3994293\n",
      " 7.25479976 6.39756974 6.41375083 6.98885615 6.39452807 6.66994729\n",
      " 5.99602428 6.80310189 6.0923435  6.07188234 6.61807342 5.62213075\n",
      " 6.35341936]\n"
     ]
    }
   ],
   "source": [
    "y_pred = np.matmul(X_train, newTheta)\n",
    "print(y_pred)"
   ]
  },
  {
   "cell_type": "code",
   "execution_count": 9,
   "id": "83fe3b8a",
   "metadata": {},
   "outputs": [
    {
     "data": {
      "image/png": "[encoded data removed]",
      "text/plain": [
       "<Figure size 432x288 with 1 Axes>"
      ]
     },
     "metadata": {
      "needs_background": "light"
     },
     "output_type": "display_data"
    }
   ],
   "source": [
    "# Plot the convergence graph for learning cost\n",
    "plt.plot(np.arange(iter_), cost_history)\n",
    "plt.xlabel('Number of iterations')\n",
    "plt.ylabel('Learning Cost')\n",
    "plt.show()"
   ]
  },
  {
   "cell_type": "code",
   "execution_count": 10,
   "id": "6ce4aa73",
   "metadata": {},
   "outputs": [
    {
     "data": {
      "image/png": "[encoded data removed]",
      "text/plain": [
       "<Figure size 432x288 with 1 Axes>"
      ]
     },
     "metadata": {
      "needs_background": "light"
     },
     "output_type": "display_data"
    }
   ],
   "source": [
    "# Plot the convergence graph for testing cost\n",
    "plt.plot(np.arange(iter_), test_cost_history)\n",
    "plt.xlabel('Number of iterations')\n",
    "plt.ylabel('Testing Cost')\n",
    "plt.show()"
   ]
  },
  {
   "cell_type": "code",
   "execution_count": 11,
   "id": "48382e04",
   "metadata": {},
   "outputs": [
    {
     "data": {
      "image/png": "[encoded data removed]",
      "text/plain": [
       "<Figure size 432x288 with 1 Axes>"
      ]
     },
     "metadata": {
      "needs_background": "light"
     },
     "output_type": "display_data"
    }
   ],
   "source": [
    "# Plot the convergence graph for thetas Step\n",
    "plt.plot(np.arange(iter_), step_history)\n",
    "plt.xlabel('Number of iterations')\n",
    "plt.ylabel('Steps')\n",
    "plt.show()"
   ]
  },
  {
   "cell_type": "code",
   "execution_count": 12,
   "id": "4fb81029",
   "metadata": {},
   "outputs": [],
   "source": [
    "def r2(y_,y):\n",
    "    sst = np.sum((y-y.mean())**2)\n",
    "    ssr = np.sum((y_-y)**2)\n",
    "    r2 = 1-(ssr/sst)\n",
    "    return(abs(r2))"
   ]
  },
  {
   "cell_type": "code",
   "execution_count": 13,
   "id": "f2ea53b3",
   "metadata": {},
   "outputs": [
    {
     "data": {
      "text/plain": [
       "0.29422676096775846"
      ]
     },
     "execution_count": 13,
     "metadata": {},
     "output_type": "execute_result"
    }
   ],
   "source": [
    "r2(y_pred , y_train)"
   ]
  },
  {
   "cell_type": "code",
   "execution_count": 14,
   "id": "412c1ef4",
   "metadata": {},
   "outputs": [
    {
     "data": {
      "text/plain": [
       "0.34095009856386327"
      ]
     },
     "execution_count": 14,
     "metadata": {},
     "output_type": "execute_result"
    }
   ],
   "source": [
    "cost_function_MSE(X_train , y_train , newTheta)"
   ]
  },
  {
   "cell_type": "code",
   "execution_count": null,
   "id": "f709bb59",
   "metadata": {},
   "outputs": [],
   "source": []
  }
 ],
 "metadata": {
  "kernelspec": {
   "display_name": "Python 3",
   "language": "python",
   "name": "python3"
  },
  "language_info": {
   "codemirror_mode": {
    "name": "ipython",
    "version": 3
   },
   "file_extension": ".py",
   "mimetype": "text/x-python",
   "name": "python",
   "nbconvert_exporter": "python",
   "pygments_lexer": "ipython3",
   "version": "3.8.8"
  }
 },
 "nbformat": 4,
 "nbformat_minor": 5
}
